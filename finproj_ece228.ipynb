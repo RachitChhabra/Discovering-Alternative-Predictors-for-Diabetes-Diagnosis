{
 "cells": [
  {
   "cell_type": "code",
   "execution_count": 1,
   "id": "b1fd6175",
   "metadata": {},
   "outputs": [],
   "source": [
    "#FINAL PROJECT: Diabetes Classification Without Using HBA1C or Blood Sugar\n",
    "#Data source: https://archive.ics.uci.edu/ml/datasets/Early+stage+diabetes+risk+prediction+dataset.#"
   ]
  },
  {
   "cell_type": "code",
   "execution_count": 25,
   "id": "c9122ab6",
   "metadata": {},
   "outputs": [
    {
     "data": {
      "image/png": "[encoded data removed]",
      "text/plain": [
       "<Figure size 640x480 with 1 Axes>"
      ]
     },
     "metadata": {},
     "output_type": "display_data"
    },
    {
     "name": "stdout",
     "output_type": "stream",
     "text": [
      "Sparse PCA Statistics:\n",
      "Explained Variance Ratio:\n",
      "Principal Component 1: 0.9825\n",
      "Principal Component 2: 0.0030\n",
      "Principal Component 3: 0.0025\n",
      "Principal Component 4: 0.0019\n",
      "Principal Component 5: 0.0023\n",
      "Principal Component 6: 0.0017\n",
      "Principal Component 7: 0.0018\n",
      "Principal Component 8: 0.0016\n",
      "Principal Component 9: 0.0012\n",
      "Principal Component 10: 0.0015\n",
      "\n",
      "Key Features:\n",
      "Principal Component 1: Feature 0\n",
      "Principal Component 2: Feature 2\n",
      "Principal Component 3: Feature 9\n",
      "Principal Component 4: Feature 1\n",
      "Principal Component 5: Feature 8\n",
      "Principal Component 6: Feature 6\n",
      "Principal Component 7: Feature 4\n",
      "Principal Component 8: Feature 5\n",
      "Principal Component 9: Feature 10\n",
      "Principal Component 10: Feature 14\n"
     ]
    }
   ],
   "source": [
    "#Analyze the dataset after running sparse PCA.  What do we know about the attributes?\n",
    "\n",
    "import os\n",
    "import pandas as pd\n",
    "import numpy as np\n",
    "import matplotlib.pyplot as plt\n",
    "from sklearn.decomposition import SparsePCA\n",
    "from sklearn.model_selection import train_test_split\n",
    "\n",
    "# Get the current directory\n",
    "current_dir = os.getcwd()\n",
    "\n",
    "# Find the .csv file in the current directory\n",
    "csv_files = [file for file in os.listdir(current_dir) if file.endswith(\".csv\")]\n",
    "\n",
    "# Check if the .csv file exists\n",
    "if \"diabetes_data_upload.csv\" in csv_files:\n",
    "    dataset_file = os.path.join(current_dir, \"diabetes_data_upload.csv\")\n",
    "else:\n",
    "    raise FileNotFoundError(\"diabetes_data_upload.csv file not found in the current directory.\")\n",
    "\n",
    "# Define a data loader function\n",
    "def load_dataset(file_path):\n",
    "    # Load the dataset from the CSV file\n",
    "    df = pd.read_csv(file_path)\n",
    "\n",
    "    # Perform one-hot encoding for categorical variables\n",
    "    df_encoded = pd.get_dummies(df, drop_first=True)\n",
    "\n",
    "    # Extract the feature matrix X\n",
    "    X = df_encoded.iloc[:, :-1].values\n",
    "\n",
    "    # Extract the target variable y\n",
    "    y = df_encoded.iloc[:, -1].values\n",
    "\n",
    "    return X, y\n",
    "\n",
    "# Load the dataset using the data loader\n",
    "X, y = load_dataset(dataset_file)\n",
    "\n",
    "# Initialize SparsePCA\n",
    "sparse_pca = SparsePCA(n_components=10, random_state=42)\n",
    "\n",
    "# Fit and transform the data\n",
    "X_sparse = sparse_pca.fit_transform(X)\n",
    "\n",
    "# Calculate the explained variance ratio manually\n",
    "explained_variance = np.var(X_sparse, axis=0)\n",
    "explained_variance_ratio = explained_variance / np.sum(explained_variance)\n",
    "\n",
    "# Plot explained variance ratio\n",
    "plt.bar(range(len(explained_variance_ratio)), explained_variance_ratio)\n",
    "plt.xlabel('Principal Component')\n",
    "plt.ylabel('Explained Variance Ratio')\n",
    "plt.title('Explained Variance Ratio for Sparse PCA')\n",
    "plt.show()\n",
    "\n",
    "# Identify key features\n",
    "key_features = np.abs(sparse_pca.components_).argmax(axis=1)\n",
    "\n",
    "# Print statistics, plots, and key features\n",
    "print(\"Sparse PCA Statistics:\")\n",
    "print(\"Explained Variance Ratio:\")\n",
    "for i, ratio in enumerate(explained_variance_ratio):\n",
    "    print(f\"Principal Component {i+1}: {ratio:.4f}\")\n",
    "\n",
    "print(\"\\nKey Features:\")\n",
    "for i, feature_idx in enumerate(key_features):\n",
    "    print(f\"Principal Component {i+1}: Feature {feature_idx}\")\n"
   ]
  },
  {
   "cell_type": "markdown",
   "id": "f2513d5c",
   "metadata": {},
   "source": [
    "#####\n",
    "After PCA, perform Logistic Regression\n",
    "#####"
   ]
  },
  {
   "cell_type": "code",
   "execution_count": 26,
   "id": "6d731e30",
   "metadata": {},
   "outputs": [],
   "source": [
    "#Logistic Regression\n",
    "\n",
    "from sklearn.linear_model import LogisticRegression\n",
    "from sklearn.model_selection import train_test_split\n",
    "\n",
    "# Split the data into training and test sets\n",
    "X_train, X_test, y_train, y_test = train_test_split(X_sparse, y, test_size=0.2, random_state=42)\n",
    "\n",
    "# Define hyperparameters for Logistic Regression\n",
    "log_reg_params = {\n",
    "    'penalty': 'l2',  # Regularization penalty ('l1', 'l2', 'elasticnet', 'none')\n",
    "    'C': 1.0,  # Inverse of regularization strength\n",
    "    'solver': 'lbfgs',  # Algorithm to use for optimization ('newton-cg', 'lbfgs', 'liblinear', 'sag', 'saga')\n",
    "    'max_iter': 100,  # Maximum number of iterations\n",
    "    'random_state': 42  # Random seed for reproducibility\n",
    "}\n",
    "\n",
    "# Initialize Logistic Regression with hyperparameters\n",
    "log_reg = LogisticRegression(**log_reg_params)\n",
    "\n",
    "# Fit the model\n",
    "log_reg.fit(X_train, y_train)\n",
    "\n",
    "# Predict the test set results\n",
    "y_pred = log_reg.predict(X_test)\n"
   ]
  },
  {
   "cell_type": "code",
   "execution_count": 27,
   "id": "f68075c4",
   "metadata": {},
   "outputs": [],
   "source": [
    "#Stats and plots for LogReg\n",
    "\n",
    "from sklearn.metrics import classification_report, confusion_matrix\n",
    "import matplotlib.pyplot as plt\n",
    "import seaborn as sns\n"
   ]
  },
  {
   "cell_type": "code",
   "execution_count": 28,
   "id": "ddb131a3",
   "metadata": {},
   "outputs": [
    {
     "name": "stdout",
     "output_type": "stream",
     "text": [
      "              precision    recall  f1-score   support\n",
      "\n",
      "           0       0.71      0.82      0.76        33\n",
      "           1       0.91      0.85      0.88        71\n",
      "\n",
      "    accuracy                           0.84       104\n",
      "   macro avg       0.81      0.83      0.82       104\n",
      "weighted avg       0.85      0.84      0.84       104\n",
      "\n"
     ]
    },
    {
     "data": {
      "image/png": "[encoded data removed]",
      "text/plain": [
       "<Figure size 640x480 with 2 Axes>"
      ]
     },
     "metadata": {},
     "output_type": "display_data"
    }
   ],
   "source": [
    "\n",
    "# Fit the model and make predictions\n",
    "log_reg.fit(X_train, y_train)\n",
    "y_pred = log_reg.predict(X_test)\n",
    "\n",
    "# Print classification report\n",
    "print(classification_report(y_test, y_pred))\n",
    "\n",
    "# Print confusion matrix\n",
    "cm = confusion_matrix(y_test, y_pred)\n",
    "sns.heatmap(cm, annot=True, fmt='d')\n",
    "plt.title('Confusion Matrix for Logistic Regression')\n",
    "plt.xlabel('Predicted')\n",
    "plt.ylabel('True')\n",
    "plt.show()\n"
   ]
  },
  {
   "cell_type": "markdown",
   "id": "2c574add",
   "metadata": {},
   "source": [
    "######\n",
    "2. Run Random Forest\n",
    "#####"
   ]
  },
  {
   "cell_type": "code",
   "execution_count": 29,
   "id": "052a199d",
   "metadata": {},
   "outputs": [],
   "source": [
    "#Random Forest\n",
    "\n",
    "from sklearn.ensemble import RandomForestClassifier\n",
    "\n",
    "# Initialize Random Forest\n",
    "random_forest = RandomForestClassifier(n_estimators=100, random_state=42)\n",
    "\n",
    "# Fit the model\n",
    "random_forest.fit(X_train, y_train)\n",
    "\n",
    "# Predict the test set results\n",
    "y_pred = random_forest.predict(X_test)"
   ]
  },
  {
   "cell_type": "code",
   "execution_count": 30,
   "id": "b3c3870e",
   "metadata": {},
   "outputs": [
    {
     "name": "stdout",
     "output_type": "stream",
     "text": [
      "              precision    recall  f1-score   support\n",
      "\n",
      "           0       0.92      1.00      0.96        33\n",
      "           1       1.00      0.96      0.98        71\n",
      "\n",
      "    accuracy                           0.97       104\n",
      "   macro avg       0.96      0.98      0.97       104\n",
      "weighted avg       0.97      0.97      0.97       104\n",
      "\n"
     ]
    },
    {
     "data": {
      "image/png": "[encoded data removed]",
      "text/plain": [
       "<Figure size 640x480 with 2 Axes>"
      ]
     },
     "metadata": {},
     "output_type": "display_data"
    }
   ],
   "source": [
    "# Fit the model and make predictions\n",
    "random_forest.fit(X_train, y_train)\n",
    "y_pred = random_forest.predict(X_test)\n",
    "\n",
    "# Print classification report\n",
    "print(classification_report(y_test, y_pred))\n",
    "\n",
    "# Print confusion matrix\n",
    "cm = confusion_matrix(y_test, y_pred)\n",
    "sns.heatmap(cm, annot=True, fmt='d')\n",
    "plt.title('Confusion Matrix for Random Forest')\n",
    "plt.xlabel('Predicted')\n",
    "plt.ylabel('True')\n",
    "plt.show()\n"
   ]
  },
  {
   "cell_type": "markdown",
   "id": "bebe693f",
   "metadata": {},
   "source": [
    "Think about early stopping\n",
    "\n",
    "For PPT \n",
    "2-3 slides\n",
    "1. What Why When ?\n",
    "2. Method, Architecture\n",
    "3. Results\n"
   ]
  },
  {
   "cell_type": "markdown",
   "id": "d0a77f53",
   "metadata": {},
   "source": [
    "## Deep and Wide NN"
   ]
  },
  {
   "cell_type": "code",
   "execution_count": 71,
   "id": "6f39bd04",
   "metadata": {},
   "outputs": [
    {
     "name": "stdout",
     "output_type": "stream",
     "text": [
      "Epoch 1/100, Loss: 1.8051395416259766\n",
      "Epoch 2/100, Loss: 1.543028473854065\n",
      "Epoch 3/100, Loss: 2.6907734870910645\n",
      "Epoch 4/100, Loss: 1.5194648504257202\n",
      "Epoch 5/100, Loss: 1.7931824922561646\n",
      "Epoch 6/100, Loss: 1.9141720533370972\n",
      "Epoch 7/100, Loss: 1.6970722675323486\n",
      "Epoch 8/100, Loss: 1.094388723373413\n",
      "Epoch 9/100, Loss: 0.6731790900230408\n",
      "Epoch 10/100, Loss: 0.7253279089927673\n",
      "Epoch 11/100, Loss: 1.4403998851776123\n",
      "Epoch 12/100, Loss: 1.1305383443832397\n",
      "Epoch 13/100, Loss: 0.5602378845214844\n",
      "Epoch 14/100, Loss: 0.5885822176933289\n",
      "Epoch 15/100, Loss: 0.6994090676307678\n",
      "Epoch 16/100, Loss: 1.5500445365905762\n",
      "Epoch 17/100, Loss: 0.9605274200439453\n",
      "Epoch 18/100, Loss: 1.1788655519485474\n",
      "Epoch 19/100, Loss: 0.3303298354148865\n",
      "Epoch 20/100, Loss: 1.2414838075637817\n",
      "Epoch 21/100, Loss: 0.8106288909912109\n",
      "Epoch 22/100, Loss: 1.2772417068481445\n",
      "Epoch 23/100, Loss: 0.5892582535743713\n",
      "Epoch 24/100, Loss: 0.29116982221603394\n",
      "Epoch 25/100, Loss: 1.4428805112838745\n",
      "Epoch 26/100, Loss: 1.12282395362854\n",
      "Epoch 27/100, Loss: 0.23650479316711426\n",
      "Epoch 28/100, Loss: 0.45647361874580383\n",
      "Epoch 29/100, Loss: 1.024673581123352\n",
      "Epoch 30/100, Loss: 0.23516273498535156\n",
      "Epoch 31/100, Loss: 1.1727159023284912\n",
      "Epoch 32/100, Loss: 0.27157777547836304\n",
      "Epoch 33/100, Loss: 1.8047277927398682\n",
      "Epoch 34/100, Loss: 0.5343243479728699\n",
      "Epoch 35/100, Loss: 0.878248393535614\n",
      "Epoch 36/100, Loss: 0.49253320693969727\n",
      "Epoch 37/100, Loss: 0.36925065517425537\n",
      "Epoch 38/100, Loss: 0.8634176254272461\n",
      "Epoch 39/100, Loss: 0.8446894288063049\n",
      "Epoch 40/100, Loss: 1.3446061611175537\n",
      "Epoch 41/100, Loss: 0.4330030083656311\n",
      "Epoch 42/100, Loss: 0.7636786699295044\n",
      "Epoch 43/100, Loss: 0.47865030169487\n",
      "Epoch 44/100, Loss: 0.5739227533340454\n",
      "Epoch 45/100, Loss: 0.5931087136268616\n",
      "Epoch 46/100, Loss: 0.7019973397254944\n",
      "Epoch 47/100, Loss: 0.930638313293457\n",
      "Epoch 48/100, Loss: 0.4526500105857849\n",
      "Epoch 49/100, Loss: 0.838463306427002\n",
      "Epoch 50/100, Loss: 0.5059652924537659\n",
      "Epoch 51/100, Loss: 0.5801903009414673\n",
      "Epoch 52/100, Loss: 1.0990322828292847\n",
      "Epoch 53/100, Loss: 0.3867996335029602\n",
      "Epoch 54/100, Loss: 0.7555672526359558\n",
      "Epoch 55/100, Loss: 0.851252555847168\n",
      "Epoch 56/100, Loss: 0.27962297201156616\n",
      "Epoch 57/100, Loss: 0.31616443395614624\n",
      "Epoch 58/100, Loss: 0.052295807749032974\n",
      "Epoch 59/100, Loss: 0.1788838505744934\n",
      "Epoch 60/100, Loss: 0.4831700623035431\n",
      "Epoch 61/100, Loss: 0.10021528601646423\n",
      "Epoch 62/100, Loss: 0.9458622932434082\n",
      "Epoch 63/100, Loss: 0.24048112332820892\n",
      "Epoch 64/100, Loss: 0.4810813069343567\n",
      "Epoch 65/100, Loss: 0.3208279013633728\n",
      "Epoch 66/100, Loss: 0.2770079970359802\n",
      "Epoch 67/100, Loss: 0.14370140433311462\n",
      "Epoch 68/100, Loss: 1.0245592594146729\n",
      "Epoch 69/100, Loss: 0.21890053153038025\n",
      "Epoch 70/100, Loss: 0.8376758098602295\n",
      "Epoch 71/100, Loss: 0.24518509209156036\n",
      "Epoch 72/100, Loss: 0.2891041040420532\n",
      "Epoch 73/100, Loss: 0.31766408681869507\n",
      "Epoch 74/100, Loss: 0.1619788259267807\n",
      "Epoch 75/100, Loss: 0.1700616478919983\n",
      "Epoch 76/100, Loss: 0.3033953011035919\n",
      "Epoch 77/100, Loss: 0.5289862155914307\n",
      "Epoch 78/100, Loss: 0.21063821017742157\n",
      "Epoch 79/100, Loss: 0.3123422861099243\n",
      "Epoch 80/100, Loss: 0.4027785360813141\n",
      "Epoch 81/100, Loss: 0.0782625675201416\n",
      "Epoch 82/100, Loss: 0.5176774859428406\n",
      "Epoch 83/100, Loss: 0.2413395196199417\n",
      "Epoch 84/100, Loss: 0.8979460597038269\n",
      "Epoch 85/100, Loss: 0.07744719088077545\n",
      "Epoch 86/100, Loss: 0.3931311368942261\n",
      "Epoch 87/100, Loss: 0.04064144566655159\n",
      "Epoch 88/100, Loss: 0.38613778352737427\n",
      "Epoch 89/100, Loss: 0.3249952495098114\n",
      "Epoch 90/100, Loss: 0.09555444121360779\n",
      "Epoch 91/100, Loss: 0.11183801293373108\n",
      "Epoch 92/100, Loss: 0.3166821300983429\n",
      "Epoch 93/100, Loss: 0.440816730260849\n",
      "Epoch 94/100, Loss: 0.31042781472206116\n",
      "Epoch 95/100, Loss: 0.2556573450565338\n",
      "Epoch 96/100, Loss: 0.2963424026966095\n",
      "Epoch 97/100, Loss: 0.10108943283557892\n",
      "Epoch 98/100, Loss: 0.5805314779281616\n",
      "Epoch 99/100, Loss: 0.12022942304611206\n",
      "Epoch 100/100, Loss: 0.17477810382843018\n",
      "Final Loss: 0.17477810382843018\n"
     ]
    }
   ],
   "source": [
    "import torch\n",
    "import torch.nn as nn\n",
    "import torch.optim as optim\n",
    "from torch.utils.data import DataLoader, TensorDataset\n",
    "import matplotlib.pyplot as plt\n",
    "\n",
    "# Hyperparameters\n",
    "hyper_params = {\n",
    "    'batch_size': 16,\n",
    "    'learning_rate': 0.01,\n",
    "    'epochs': 100,\n",
    "    'input_size': X_sparse.shape[1],\n",
    "    'hidden_size': 1000,\n",
    "    'output_size': 1,\n",
    "    'dropout_rate': 0.85,\n",
    "}\n",
    "\n",
    "# Split the data into training and test sets\n",
    "X_train, X_test, y_train, y_test = train_test_split(X_sparse, y, test_size=0.2, random_state=42)\n",
    "\n",
    "# Convert to tensors\n",
    "X_tensor = torch.tensor(X_train.astype(np.float32))\n",
    "y_tensor = torch.tensor(y_train.astype(np.float32)).unsqueeze(1)\n",
    "\n",
    "# Create a Dataset\n",
    "dataset = TensorDataset(X_tensor, y_tensor)\n",
    "\n",
    "# Create a DataLoader\n",
    "data_loader = DataLoader(dataset, batch_size=hyper_params['batch_size'], shuffle=True)\n",
    "\n",
    "# Use CUDA if available\n",
    "device = torch.device('cuda' if torch.cuda.is_available() else 'cpu')\n",
    "\n",
    "# Define the Deep and Wide neural network\n",
    "class DeepWideNN(nn.Module):\n",
    "    def __init__(self, input_size, hidden_size, output_size, dropout_rate):\n",
    "        super(DeepWideNN, self).__init__()\n",
    "        self.deep = nn.Sequential(\n",
    "            nn.Linear(input_size, hidden_size),\n",
    "            nn.ReLU(),\n",
    "            nn.Dropout(dropout_rate),\n",
    "            nn.Linear(hidden_size, output_size),\n",
    "        )\n",
    "\n",
    "    def forward(self, x):\n",
    "        out = self.deep(x)\n",
    "        return out\n",
    "\n",
    "# Initialize the model, loss function, and optimizer\n",
    "nn_model = DeepWideNN(\n",
    "    input_size=hyper_params['input_size'],\n",
    "    hidden_size=hyper_params['hidden_size'],\n",
    "    output_size=hyper_params['output_size'],\n",
    "    dropout_rate=hyper_params['dropout_rate']\n",
    ").to(device)\n",
    "criterion = nn.BCEWithLogitsLoss()\n",
    "optimizer = optim.SGD(nn_model.parameters(), lr=hyper_params['learning_rate'])\n",
    "\n",
    "# Training loop\n",
    "for epoch in range(hyper_params['epochs']):\n",
    "    for i, (inputs, labels) in enumerate(data_loader):\n",
    "        inputs, labels = inputs.to(device), labels.to(device)\n",
    "\n",
    "        # Forward pass\n",
    "        outputs = nn_model(inputs)\n",
    "        loss = criterion(outputs, labels)\n",
    "\n",
    "        # Backward and optimize\n",
    "        optimizer.zero_grad()\n",
    "        loss.backward()\n",
    "        optimizer.step()\n",
    "    print(f'Epoch {epoch+1}/{hyper_params[\"epochs\"]}, Loss: {loss.item()}')\n",
    "\n",
    "# Display the final loss\n",
    "print(f\"Final Loss: {loss.item()}\")\n",
    "\n",
    "# Save the model\n",
    "torch.save(nn_model.state_dict(), \"nn_model.pth\")\n"
   ]
  },
  {
   "cell_type": "markdown",
   "id": "e79814cf",
   "metadata": {},
   "source": [
    "## Tuning our Deep and Wide model"
   ]
  },
  {
   "cell_type": "code",
   "execution_count": 70,
   "id": "0e3e5431",
   "metadata": {},
   "outputs": [
    {
     "name": "stderr",
     "output_type": "stream",
     "text": [
      "  0%|          | 0/6 [00:00<?, ?it/s]"
     ]
    },
    {
     "name": "stdout",
     "output_type": "stream",
     "text": [
      "tensor(0.7115)\n",
      "tensor(0.7500)\n",
      "tensor(0.8077)\n",
      "tensor(0.8462)\n",
      "tensor(0.8846)\n",
      "tensor(0.8942)\n",
      "tensor(0.9038)\n",
      "tensor(0.9135)\n",
      "tensor(0.9231)\n"
     ]
    },
    {
     "name": "stderr",
     "output_type": "stream",
     "text": [
      "100%|██████████| 6/6 [08:19<00:00, 83.18s/it] "
     ]
    },
    {
     "name": "stdout",
     "output_type": "stream",
     "text": [
      "Best Params: {'batch_size': 16, 'learning_rate': 0.01, 'hidden_size': 1000, 'dropout_rate': 0.85}, Best Accuracy: 0.9230769276618958\n"
     ]
    },
    {
     "name": "stderr",
     "output_type": "stream",
     "text": [
      "\n"
     ]
    }
   ],
   "source": [
    "import json\n",
    "from tqdm import tqdm\n",
    "# Define a list or range of values for each hyperparameter\n",
    "batch_sizes = [16,32,64,128, 256, 512]\n",
    "learning_rates = [0.0001,0.001, 0.01, 0.1]\n",
    "hidden_sizes = [50, 100, 500, 1000, 1500]\n",
    "dropout_rates = [0.15, 0.3, 0.5, 0.7, 0.85]\n",
    "\n",
    "# Placeholder variables for storing the best parameters and the best accuracy\n",
    "best_params = None\n",
    "best_accuracy = 0.0\n",
    "\n",
    "# Use CUDA if available\n",
    "device = torch.device('cuda' if torch.cuda.is_available() else 'cpu')\n",
    "\n",
    "# Loop over the hyperparameters\n",
    "for batch_size in tqdm(batch_sizes):\n",
    "    for learning_rate in learning_rates:\n",
    "        for hidden_size in hidden_sizes:\n",
    "            for dropout_rate in dropout_rates:\n",
    "\n",
    "                # Create a DataLoader with the current batch_size\n",
    "                data_loader = DataLoader(dataset, batch_size=batch_size, shuffle=True)\n",
    "\n",
    "                # Initialize the model, loss function, and optimizer with the current hyperparameters\n",
    "                nn_model = DeepWideNN(\n",
    "                    input_size=hyper_params['input_size'],\n",
    "                    hidden_size=hidden_size,\n",
    "                    output_size=hyper_params['output_size'],\n",
    "                    dropout_rate=dropout_rate\n",
    "                ).to(device)\n",
    "                criterion = nn.BCEWithLogitsLoss()\n",
    "                optimizer = optim.SGD(nn_model.parameters(), lr=learning_rate)\n",
    "\n",
    "                # Training loop\n",
    "                for epoch in range(hyper_params['epochs']):\n",
    "                    for i, (inputs, labels) in enumerate(data_loader):\n",
    "                        inputs, labels = inputs.to(device), labels.to(device)\n",
    "\n",
    "                        # Forward pass\n",
    "                        outputs = nn_model(inputs)\n",
    "                        loss = criterion(outputs, labels)\n",
    "\n",
    "                        # Backward and optimize\n",
    "                        optimizer.zero_grad()\n",
    "                        loss.backward()\n",
    "                        optimizer.step()\n",
    "\n",
    "                # Evaluate the model on the test set to get the accuracy\n",
    "                nn_model.eval()\n",
    "                with torch.no_grad():\n",
    "                    X_test_tensor = torch.tensor(X_test.astype(np.float32)).to(device)\n",
    "                    y_test_tensor = torch.tensor(y_test.astype(np.float32)).unsqueeze(1).to(device)\n",
    "                    outputs = nn_model(X_test_tensor)\n",
    "                    predictions = torch.sigmoid(outputs) > 0.5\n",
    "                    accuracy = (predictions == y_test_tensor).float().mean()\n",
    "\n",
    "                # If the accuracy is better than the best_accuracy found so far, update the best_params and best_accuracy\n",
    "                if accuracy > best_accuracy:\n",
    "                    print(accuracy)\n",
    "                    best_params = {'batch_size': batch_size, 'learning_rate': learning_rate, \n",
    "                                   'hidden_size': hidden_size, 'dropout_rate': dropout_rate}\n",
    "                    best_accuracy = accuracy\n",
    "\n",
    "# Print the best hyperparameters and the corresponding accuracy\n",
    "print(f\"Best Params: {best_params}, Best Accuracy: {best_accuracy}\")\n",
    "\n",
    "# Save the best parameters\n",
    "with open(\"best_params.json\", \"w\") as f:\n",
    "    json.dump(best_params, f)\n"
   ]
  },
  {
   "cell_type": "code",
   "execution_count": 72,
   "id": "6edc1507",
   "metadata": {},
   "outputs": [],
   "source": [
    "from sklearn.base import BaseEstimator, ClassifierMixin\n",
    "\n",
    "class PyTorchClassifier(BaseEstimator, ClassifierMixin):\n",
    "    def __init__(self, model, criterion, optimizer, epochs):\n",
    "        self.model = model\n",
    "        self.criterion = criterion\n",
    "        self.optimizer = optimizer\n",
    "        self.epochs = epochs\n",
    "\n",
    "    def fit(self, X, y):\n",
    "\n",
    "        dataset = TensorDataset(X, y)\n",
    "        data_loader = DataLoader(dataset, batch_size=hyper_params['batch_size'], shuffle=True)\n",
    "\n",
    "        for epoch in range(self.epochs):\n",
    "            for i, (inputs, labels) in enumerate(data_loader):\n",
    "                inputs, labels = inputs.to(device), labels.to(device)\n",
    "\n",
    "                # Forward pass\n",
    "                outputs = self.model(inputs)\n",
    "                loss = self.criterion(outputs, labels)\n",
    "\n",
    "                # Backward and optimize\n",
    "                self.optimizer.zero_grad()\n",
    "                loss.backward()\n",
    "                self.optimizer.step()\n",
    "\n",
    "        return self\n",
    "\n",
    "    def predict_proba(self, X):\n",
    "        with torch.no_grad():\n",
    "            outputs = self.model(X)\n",
    "            probs = torch.sigmoid(outputs)\n",
    "            return probs.cpu().numpy()\n",
    "\n",
    "    def predict(self, X):\n",
    "        probas = self.predict_proba(X)\n",
    "        return (probas > 0.5).astype(int)\n",
    "\n",
    "# Wrap the PyTorch model\n",
    "nn_model_sklearn = PyTorchClassifier(nn_model, criterion, optimizer, epochs=hyper_params['epochs'])\n",
    "\n",
    "# Now, you can use nn_model_sklearn in your sklearn ensemble models\n"
   ]
  },
  {
   "cell_type": "code",
   "execution_count": 73,
   "id": "c13e38ec",
   "metadata": {},
   "outputs": [
    {
     "name": "stdout",
     "output_type": "stream",
     "text": [
      "              precision    recall  f1-score   support\n",
      "\n",
      "           0       0.78      0.85      0.81        33\n",
      "           1       0.93      0.89      0.91        71\n",
      "\n",
      "    accuracy                           0.88       104\n",
      "   macro avg       0.85      0.87      0.86       104\n",
      "weighted avg       0.88      0.88      0.88       104\n",
      "\n"
     ]
    },
    {
     "data": {
      "image/png": "[encoded data removed]",
      "text/plain": [
       "<Figure size 640x480 with 2 Axes>"
      ]
     },
     "metadata": {},
     "output_type": "display_data"
    }
   ],
   "source": [
    "# Fit the model\n",
    "X_train_tensor = torch.tensor(X_train.astype(np.float32))\n",
    "y_train_tensor = torch.tensor(y_train.astype(np.float32)).unsqueeze(1)\n",
    "X_test_tensor = torch.tensor(X_test.astype(np.float32))\n",
    "\n",
    "nn_model_sklearn.fit(X_train_tensor, y_train_tensor)\n",
    "y_pred = nn_model_sklearn.predict(X_test_tensor)\n",
    "\n",
    "# Print classification report\n",
    "print(classification_report(y_test, y_pred))\n",
    "\n",
    "# Print confusion matrix\n",
    "cm = confusion_matrix(y_test, y_pred)\n",
    "sns.heatmap(cm, annot=True, fmt='d')\n",
    "plt.title('Confusion Matrix for Deep and Wide Network')\n",
    "plt.xlabel('Predicted')\n",
    "plt.ylabel('True')\n",
    "plt.show()"
   ]
  },
  {
   "cell_type": "markdown",
   "id": "752bcc21",
   "metadata": {},
   "source": [
    "#####\n",
    "After running all 3 models, perform ensemble methods of VOTING and STACKING.  Compare results\n",
    "#####"
   ]
  },
  {
   "cell_type": "code",
   "execution_count": 74,
   "id": "8e1b22a5",
   "metadata": {},
   "outputs": [],
   "source": [
    "class PyTorchClassifierWrapper(BaseEstimator, ClassifierMixin):\n",
    "    def __init__(self, model, epochs=5):\n",
    "        self.model = model\n",
    "        self.epochs = epochs\n",
    "\n",
    "    def fit(self, X, y):\n",
    "        X_tensor = torch.tensor(X.astype(np.float32))\n",
    "        y_tensor = torch.tensor(y.astype(np.float32)).unsqueeze(1)\n",
    "        self.model.fit(X_tensor, y_tensor)\n",
    "        return self\n",
    "\n",
    "    def predict(self, X):\n",
    "        X_tensor = torch.tensor(X.astype(np.float32))\n",
    "        y_pred = self.model.predict(X_tensor)\n",
    "        return y_pred.cpu().numpy()\n",
    "\n",
    "    def predict_proba(self, X):\n",
    "        y_pred = self.predict(X)\n",
    "        return np.column_stack((1 - y_pred, y_pred))\n",
    "\n",
    "nn_model_sklearn_wrapped = PyTorchClassifierWrapper(nn_model_sklearn)\n"
   ]
  },
  {
   "cell_type": "code",
   "execution_count": 77,
   "id": "95b4e11a",
   "metadata": {},
   "outputs": [
    {
     "name": "stdout",
     "output_type": "stream",
     "text": [
      "Accuracy of voting ensemble: 0.875\n",
      "Accuracy of stacking ensemble: 0.9615384615384616\n"
     ]
    }
   ],
   "source": [
    "from sklearn.ensemble import VotingClassifier, StackingClassifier\n",
    "from sklearn.metrics import accuracy_score\n",
    "class PyTorchClassifierWrapper(BaseEstimator, ClassifierMixin):\n",
    "    def __init__(self, model, epochs=5):\n",
    "        self.model = model\n",
    "        self.epochs = epochs\n",
    "        self.classes_ = None  # Initialize classes_ attribute\n",
    "\n",
    "    def fit(self, X, y):\n",
    "        X_tensor = torch.tensor(X.astype(np.float32))\n",
    "        y_tensor = torch.tensor(y.astype(np.float32)).unsqueeze(1)\n",
    "        self.classes_ = np.unique(y)  # update classes_ attribute on fit\n",
    "        self.model.fit(X_tensor, y_tensor)\n",
    "        return self\n",
    "\n",
    "    def predict(self, X):\n",
    "        X_tensor = torch.tensor(X.astype(np.float32))\n",
    "        y_pred = self.model.predict(X_tensor)\n",
    "        return y_pred \n",
    "\n",
    "    def predict_proba(self, X):\n",
    "        y_pred = self.predict(X)\n",
    "        return np.column_stack((1 - y_pred, y_pred))\n",
    "\n",
    "\n",
    "nn_model_sklearn_wrapped = PyTorchClassifierWrapper(nn_model_sklearn)\n",
    "\n",
    "# Initialize the ensemble models\n",
    "voting = VotingClassifier(estimators=[('lr', log_reg), ('rf', random_forest), ('nn', nn_model_sklearn_wrapped)], voting='soft')\n",
    "stacking = StackingClassifier(estimators=[('lr', log_reg), ('rf', random_forest), ('nn', nn_model_sklearn_wrapped)], final_estimator=LogisticRegression())\n",
    "\n",
    "# Fit the voting ensemble model\n",
    "voting.fit(X_train, y_train)\n",
    "\n",
    "# Predict the test set results\n",
    "y_pred_voting = voting.predict(X_test)\n",
    "\n",
    "# Fit the stacking ensemble model\n",
    "stacking.fit(X_train, y_train)\n",
    "\n",
    "# Predict the test set results\n",
    "y_pred_stacking = stacking.predict(X_test)\n",
    "\n",
    "# Calculate the accuracy of the voting ensemble\n",
    "accuracy_voting = accuracy_score(y_test, y_pred_voting)\n",
    "\n",
    "# Calculate the accuracy of the stacking ensemble\n",
    "accuracy_stacking = accuracy_score(y_test, y_pred_stacking)\n",
    "\n",
    "# Print the accuracies\n",
    "print(f'Accuracy of voting ensemble: {accuracy_voting}')\n",
    "print(f'Accuracy of stacking ensemble: {accuracy_stacking}')\n",
    "\n",
    "# Choose the better model\n",
    "if accuracy_voting > accuracy_stacking:\n",
    "    best_model = voting\n",
    "else:\n",
    "    best_model = stacking\n"
   ]
  },
  {
   "cell_type": "code",
   "execution_count": 58,
   "id": "57acf14f",
   "metadata": {},
   "outputs": [
    {
     "name": "stdout",
     "output_type": "stream",
     "text": [
      "Classification Report for Voting Ensemble:\n",
      "              precision    recall  f1-score   support\n",
      "\n",
      "           0       0.83      0.91      0.87        33\n",
      "           1       0.96      0.92      0.94        71\n",
      "\n",
      "    accuracy                           0.91       104\n",
      "   macro avg       0.89      0.91      0.90       104\n",
      "weighted avg       0.92      0.91      0.91       104\n",
      "\n"
     ]
    },
    {
     "data": {
      "image/png": "[encoded data removed]",
      "text/plain": [
       "<Figure size 640x480 with 2 Axes>"
      ]
     },
     "metadata": {},
     "output_type": "display_data"
    }
   ],
   "source": [
    "#Voting ensemble\n",
    "\n",
    "# Fit the model and make predictions\n",
    "voting.fit(X_train, y_train)\n",
    "y_pred_voting = voting.predict(X_test)\n",
    "\n",
    "# Print classification report\n",
    "print(\"Classification Report for Voting Ensemble:\")\n",
    "print(classification_report(y_test, y_pred_voting))\n",
    "\n",
    "# Print confusion matrix\n",
    "cm_voting = confusion_matrix(y_test, y_pred_voting)\n",
    "sns.heatmap(cm_voting, annot=True, fmt='d')\n",
    "plt.title('Confusion Matrix for Voting Ensemble')\n",
    "plt.xlabel('Predicted')\n",
    "plt.ylabel('True')\n",
    "plt.show()\n"
   ]
  },
  {
   "cell_type": "code",
   "execution_count": 59,
   "id": "94cc1ce9",
   "metadata": {},
   "outputs": [
    {
     "name": "stdout",
     "output_type": "stream",
     "text": [
      "Classification Report for Stacking Ensemble:\n",
      "              precision    recall  f1-score   support\n",
      "\n",
      "           0       0.91      0.94      0.93        33\n",
      "           1       0.97      0.96      0.96        71\n",
      "\n",
      "    accuracy                           0.95       104\n",
      "   macro avg       0.94      0.95      0.94       104\n",
      "weighted avg       0.95      0.95      0.95       104\n",
      "\n"
     ]
    },
    {
     "data": {
      "image/png": "[encoded data removed]",
      "text/plain": [
       "<Figure size 640x480 with 2 Axes>"
      ]
     },
     "metadata": {},
     "output_type": "display_data"
    }
   ],
   "source": [
    "#Stacking ensemble\n",
    "\n",
    "# Fit the model and make predictions\n",
    "stacking.fit(X_train, y_train)\n",
    "y_pred_stacking = stacking.predict(X_test)\n",
    "\n",
    "# Print classification report\n",
    "print(\"Classification Report for Stacking Ensemble:\")\n",
    "print(classification_report(y_test, y_pred_stacking))\n",
    "\n",
    "# Print confusion matrix\n",
    "cm_stacking = confusion_matrix(y_test, y_pred_stacking)\n",
    "sns.heatmap(cm_stacking, annot=True, fmt='d')\n",
    "plt.title('Confusion Matrix for Stacking Ensemble')\n",
    "plt.xlabel('Predicted')\n",
    "plt.ylabel('True')\n",
    "plt.show()\n"
   ]
  }
 ],
 "metadata": {
  "kernelspec": {
   "display_name": "Python 3 (ipykernel)",
   "language": "python",
   "name": "python3"
  },
  "language_info": {
   "codemirror_mode": {
    "name": "ipython",
    "version": 3
   },
   "file_extension": ".py",
   "mimetype": "text/x-python",
   "name": "python",
   "nbconvert_exporter": "python",
   "pygments_lexer": "ipython3",
   "version": "3.9.7"
  }
 },
 "nbformat": 4,
 "nbformat_minor": 5
}
