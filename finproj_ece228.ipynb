{
 "cells": [
  {
   "cell_type": "code",
   "execution_count": 1,
   "id": "b1fd6175",
   "metadata": {},
   "outputs": [],
   "source": [
    "#FINAL PROJECT: Diabetes Classification Without Using HBA1C or Blood Sugar\n",
    "#Data source: https://archive.ics.uci.edu/ml/datasets/Early+stage+diabetes+risk+prediction+dataset.#"
   ]
  },
  {
   "cell_type": "code",
   "execution_count": 8,
   "id": "c9122ab6",
   "metadata": {},
   "outputs": [
    {
     "data": {
      "image/png": "[encoded data removed]",
      "text/plain": [
       "<Figure size 432x288 with 1 Axes>"
      ]
     },
     "metadata": {
      "needs_background": "light"
     },
     "output_type": "display_data"
    },
    {
     "name": "stdout",
     "output_type": "stream",
     "text": [
      "Sparse PCA Statistics:\n",
      "Explained Variance Ratio:\n",
      "Principal Component 1: 0.1403\n",
      "Principal Component 2: 0.1325\n",
      "Principal Component 3: 0.0946\n",
      "Principal Component 4: 0.1217\n",
      "Principal Component 5: 0.0895\n",
      "Principal Component 6: 0.0956\n",
      "Principal Component 7: 0.0875\n",
      "Principal Component 8: 0.0663\n",
      "Principal Component 9: 0.0830\n",
      "Principal Component 10: 0.0890\n",
      "\n",
      "Key Features:\n",
      "Principal Component 1: Polyuria_Yes\n",
      "Principal Component 2: Itching_Yes\n",
      "Principal Component 3: sudden weight loss_Yes\n",
      "Principal Component 4: visual blurring_Yes\n",
      "Principal Component 5: Polyphagia_Yes\n",
      "Principal Component 6: Gender_Male\n",
      "Principal Component 7: weakness_Yes\n",
      "Principal Component 8: Irritability_Yes\n",
      "Principal Component 9: Alopecia_Yes\n",
      "Principal Component 10: partial paresis_Yes\n"
     ]
    }
   ],
   "source": [
    "#Analyze the dataset after running sparse PCA.  What do we know about the attributes?\n",
    "\n",
    "import os\n",
    "import pandas as pd\n",
    "import numpy as np\n",
    "import matplotlib.pyplot as plt\n",
    "from sklearn.decomposition import SparsePCA\n",
    "from sklearn.model_selection import train_test_split\n",
    "\n",
    "# Get the current directory\n",
    "current_dir = os.getcwd()\n",
    "\n",
    "# Find the .csv file in the current directory\n",
    "csv_files = [file for file in os.listdir(current_dir) if file.endswith(\".csv\")]\n",
    "\n",
    "# Check if the .csv file exists\n",
    "if \"diabetes_data_upload.csv\" in csv_files:\n",
    "    dataset_file = os.path.join(current_dir, \"diabetes_data_upload.csv\")\n",
    "else:\n",
    "    raise FileNotFoundError(\"diabetes_data_upload.csv file not found in the current directory.\")\n",
    "\n",
    "# Define a data loader function\n",
    "def load_dataset(file_path):\n",
    "    # Load the dataset from the CSV file\n",
    "    df = pd.read_csv(file_path)\n",
    "\n",
    "    # Perform one-hot encoding for categorical variables\n",
    "    df_encoded = pd.get_dummies(df, drop_first=True)\n",
    "    \n",
    "    # Get the feature names\n",
    "    feature_names = df_encoded.columns[:-1]  # Exclude target variable\n",
    "\n",
    "    # Extract the feature matrix X\n",
    "    X = df_encoded.iloc[:, :-1].values\n",
    "\n",
    "    X[:,0] = X[:,0]/max(X[:,0])\n",
    "    \n",
    "    # Extract the target variable y\n",
    "    y = df_encoded.iloc[:, -1].values\n",
    "\n",
    "    return X, y, feature_names\n",
    "\n",
    "# Load the dataset using the data loader\n",
    "X, y, feature_names = load_dataset(dataset_file)\n",
    "\n",
    "# Initialize SparsePCA\n",
    "sparse_pca = SparsePCA(n_components=10, random_state=42)\n",
    "\n",
    "# Fit and transform the data\n",
    "X_sparse = sparse_pca.fit_transform(X)\n",
    "\n",
    "# Calculate the explained variance ratio manually\n",
    "explained_variance = np.var(X_sparse, axis=0)\n",
    "explained_variance_ratio = explained_variance / np.sum(explained_variance)\n",
    "\n",
    "# Plot explained variance ratio\n",
    "plt.bar(range(len(explained_variance_ratio)), explained_variance_ratio)\n",
    "plt.xlabel('Principal Component')\n",
    "plt.ylabel('Explained Variance Ratio')\n",
    "plt.title('Explained Variance Ratio for Sparse PCA')\n",
    "plt.show()\n",
    "\n",
    "\n",
    "# Identify key features\n",
    "key_features = np.abs(sparse_pca.components_).argmax(axis=1)\n",
    "\n",
    "# Print statistics, plots, and key features\n",
    "print(\"Sparse PCA Statistics:\")\n",
    "print(\"Explained Variance Ratio:\")\n",
    "for i, ratio in enumerate(explained_variance_ratio):\n",
    "    print(f\"Principal Component {i+1}: {ratio:.4f}\")\n",
    "\n",
    "print(\"\\nKey Features:\")\n",
    "for i, feature_idx in enumerate(key_features):\n",
    "    print(f\"Principal Component {i+1}: {feature_names[feature_idx]}\")\n"
   ]
  },
  {
   "cell_type": "markdown",
   "id": "f2513d5c",
   "metadata": {},
   "source": [
    "#####\n",
    "After PCA, perform Logistic Regression\n",
    "#####"
   ]
  },
  {
   "cell_type": "code",
   "execution_count": 33,
   "id": "6d731e30",
   "metadata": {},
   "outputs": [],
   "source": [
    "#Logistic Regression\n",
    "\n",
    "from sklearn.linear_model import LogisticRegression\n",
    "from sklearn.model_selection import train_test_split\n",
    "\n",
    "# Split the data into training and test sets\n",
    "X_train, X_test, y_train, y_test = train_test_split(X_sparse, y, test_size=0.2, random_state=42)\n",
    "\n",
    "# Define hyperparameters for Logistic Regression\n",
    "log_reg_params = {\n",
    "    'penalty': 'l2',  # Regularization penalty ('l1', 'l2', 'elasticnet', 'none')\n",
    "    'C': 1.0,  # Inverse of regularization strength\n",
    "    'solver': 'lbfgs',  # Algorithm to use for optimization ('newton-cg', 'lbfgs', 'liblinear', 'sag', 'saga')\n",
    "    'max_iter': 100,  # Maximum number of iterations\n",
    "    'random_state': 42  # Random seed for reproducibility\n",
    "}\n",
    "\n",
    "# Initialize Logistic Regression with hyperparameters\n",
    "log_reg = LogisticRegression(**log_reg_params)\n",
    "\n",
    "# Fit the model\n",
    "log_reg.fit(X_train, y_train)\n",
    "\n",
    "# Predict the test set results\n",
    "y_pred = log_reg.predict(X_test)\n"
   ]
  },
  {
   "cell_type": "code",
   "execution_count": 34,
   "id": "f68075c4",
   "metadata": {},
   "outputs": [],
   "source": [
    "#Stats and plots for LogReg\n",
    "\n",
    "from sklearn.metrics import classification_report, confusion_matrix\n",
    "import matplotlib.pyplot as plt\n",
    "import seaborn as sns\n"
   ]
  },
  {
   "cell_type": "code",
   "execution_count": 35,
   "id": "ddb131a3",
   "metadata": {},
   "outputs": [
    {
     "name": "stdout",
     "output_type": "stream",
     "text": [
      "              precision    recall  f1-score   support\n",
      "\n",
      "           0       0.81      0.88      0.84        33\n",
      "           1       0.94      0.90      0.92        71\n",
      "\n",
      "    accuracy                           0.89       104\n",
      "   macro avg       0.87      0.89      0.88       104\n",
      "weighted avg       0.90      0.89      0.90       104\n",
      "\n"
     ]
    },
    {
     "data": {
      "image/png": "[encoded data removed]",
      "text/plain": [
       "<Figure size 432x288 with 2 Axes>"
      ]
     },
     "metadata": {
      "needs_background": "light"
     },
     "output_type": "display_data"
    }
   ],
   "source": [
    "\n",
    "# Fit the model and make predictions\n",
    "log_reg.fit(X_train, y_train)\n",
    "y_pred = log_reg.predict(X_test)\n",
    "\n",
    "# Print classification report\n",
    "print(classification_report(y_test, y_pred))\n",
    "\n",
    "# Print confusion matrix\n",
    "cm = confusion_matrix(y_test, y_pred)\n",
    "sns.heatmap(cm, annot=True, fmt='d')\n",
    "plt.title('Confusion Matrix for Logistic Regression')\n",
    "plt.xlabel('Predicted')\n",
    "plt.ylabel('True')\n",
    "plt.show()\n"
   ]
  },
  {
   "cell_type": "markdown",
   "id": "2c574add",
   "metadata": {},
   "source": [
    "######\n",
    "2. Run Random Forest\n",
    "#####"
   ]
  },
  {
   "cell_type": "code",
   "execution_count": 36,
   "id": "052a199d",
   "metadata": {},
   "outputs": [],
   "source": [
    "#Random Forest\n",
    "\n",
    "from sklearn.ensemble import RandomForestClassifier\n",
    "\n",
    "# Initialize Random Forest\n",
    "random_forest = RandomForestClassifier(n_estimators=100, random_state=42)\n",
    "\n",
    "# Fit the model\n",
    "random_forest.fit(X_train, y_train)\n",
    "\n",
    "# Predict the test set results\n",
    "y_pred = random_forest.predict(X_test)"
   ]
  },
  {
   "cell_type": "code",
   "execution_count": 37,
   "id": "b3c3870e",
   "metadata": {},
   "outputs": [
    {
     "name": "stdout",
     "output_type": "stream",
     "text": [
      "              precision    recall  f1-score   support\n",
      "\n",
      "           0       0.91      0.97      0.94        33\n",
      "           1       0.99      0.96      0.97        71\n",
      "\n",
      "    accuracy                           0.96       104\n",
      "   macro avg       0.95      0.96      0.96       104\n",
      "weighted avg       0.96      0.96      0.96       104\n",
      "\n"
     ]
    },
    {
     "data": {
      "image/png": "[encoded data removed]",
      "text/plain": [
       "<Figure size 432x288 with 2 Axes>"
      ]
     },
     "metadata": {
      "needs_background": "light"
     },
     "output_type": "display_data"
    }
   ],
   "source": [
    "# Fit the model and make predictions\n",
    "random_forest.fit(X_train, y_train)\n",
    "y_pred = random_forest.predict(X_test)\n",
    "\n",
    "# Print classification report\n",
    "print(classification_report(y_test, y_pred))\n",
    "\n",
    "# Print confusion matrix\n",
    "cm = confusion_matrix(y_test, y_pred)\n",
    "sns.heatmap(cm, annot=True, fmt='d')\n",
    "plt.title('Confusion Matrix for Random Forest')\n",
    "plt.xlabel('Predicted')\n",
    "plt.ylabel('True')\n",
    "plt.show()\n"
   ]
  },
  {
   "cell_type": "markdown",
   "id": "bebe693f",
   "metadata": {},
   "source": [
    "Think about early stopping\n",
    "\n",
    "For PPT \n",
    "2-3 slides\n",
    "1. What Why When ?\n",
    "2. Method, Architecture\n",
    "3. Results\n"
   ]
  },
  {
   "cell_type": "markdown",
   "id": "d0a77f53",
   "metadata": {},
   "source": [
    "## Deep and Wide NN"
   ]
  },
  {
   "cell_type": "code",
   "execution_count": 38,
   "id": "6f39bd04",
   "metadata": {},
   "outputs": [
    {
     "name": "stdout",
     "output_type": "stream",
     "text": [
      "Epoch 1/100, Loss: 0.5813491940498352\n",
      "Epoch 2/100, Loss: 0.525222659111023\n",
      "Epoch 3/100, Loss: 0.287699431180954\n",
      "Epoch 4/100, Loss: 0.24545252323150635\n",
      "Epoch 5/100, Loss: 0.2532138228416443\n",
      "Epoch 6/100, Loss: 0.2991113066673279\n",
      "Epoch 7/100, Loss: 0.19624315202236176\n",
      "Epoch 8/100, Loss: 0.18487957119941711\n",
      "Epoch 9/100, Loss: 0.416533499956131\n",
      "Epoch 10/100, Loss: 0.5186043381690979\n",
      "Epoch 11/100, Loss: 0.13218653202056885\n",
      "Epoch 12/100, Loss: 0.23239590227603912\n",
      "Epoch 13/100, Loss: 0.28210633993148804\n",
      "Epoch 14/100, Loss: 0.23723775148391724\n",
      "Epoch 15/100, Loss: 0.28913402557373047\n",
      "Epoch 16/100, Loss: 0.16216611862182617\n",
      "Epoch 17/100, Loss: 0.2732364237308502\n",
      "Epoch 18/100, Loss: 0.3991966247558594\n",
      "Epoch 19/100, Loss: 0.28589916229248047\n",
      "Epoch 20/100, Loss: 0.1634618192911148\n",
      "Epoch 21/100, Loss: 0.3388105630874634\n",
      "Epoch 22/100, Loss: 0.2526783347129822\n",
      "Epoch 23/100, Loss: 0.2881762683391571\n",
      "Epoch 24/100, Loss: 0.2934470474720001\n",
      "Epoch 25/100, Loss: 0.30502066016197205\n",
      "Epoch 26/100, Loss: 0.18611720204353333\n",
      "Epoch 27/100, Loss: 0.26491600275039673\n",
      "Epoch 28/100, Loss: 0.12505362927913666\n",
      "Epoch 29/100, Loss: 0.1728988140821457\n",
      "Epoch 30/100, Loss: 0.3190269470214844\n",
      "Epoch 31/100, Loss: 0.2973780035972595\n",
      "Epoch 32/100, Loss: 0.21205376088619232\n",
      "Epoch 33/100, Loss: 0.2360735535621643\n",
      "Epoch 34/100, Loss: 0.25094422698020935\n",
      "Epoch 35/100, Loss: 0.14761318266391754\n",
      "Epoch 36/100, Loss: 0.09121215343475342\n",
      "Epoch 37/100, Loss: 0.19681744277477264\n",
      "Epoch 38/100, Loss: 0.3031362295150757\n",
      "Epoch 39/100, Loss: 0.2648541033267975\n",
      "Epoch 40/100, Loss: 0.5090200901031494\n",
      "Epoch 41/100, Loss: 0.2971816956996918\n",
      "Epoch 42/100, Loss: 0.15557457506656647\n",
      "Epoch 43/100, Loss: 0.6585100889205933\n",
      "Epoch 44/100, Loss: 0.11303655058145523\n",
      "Epoch 45/100, Loss: 0.26417019963264465\n",
      "Epoch 46/100, Loss: 0.1168922632932663\n",
      "Epoch 47/100, Loss: 0.16631709039211273\n",
      "Epoch 48/100, Loss: 0.34683331847190857\n",
      "Epoch 49/100, Loss: 0.14233291149139404\n",
      "Epoch 50/100, Loss: 0.253792405128479\n",
      "Epoch 51/100, Loss: 0.44271546602249146\n",
      "Epoch 52/100, Loss: 0.439238578081131\n",
      "Epoch 53/100, Loss: 0.137615367770195\n",
      "Epoch 54/100, Loss: 0.1926133781671524\n",
      "Epoch 55/100, Loss: 0.1633346527814865\n",
      "Epoch 56/100, Loss: 0.6945438385009766\n",
      "Epoch 57/100, Loss: 0.1483234167098999\n",
      "Epoch 58/100, Loss: 0.19057506322860718\n",
      "Epoch 59/100, Loss: 0.3173912763595581\n",
      "Epoch 60/100, Loss: 0.21647951006889343\n",
      "Epoch 61/100, Loss: 0.09205791354179382\n",
      "Epoch 62/100, Loss: 0.08366987854242325\n",
      "Epoch 63/100, Loss: 0.3322681784629822\n",
      "Epoch 64/100, Loss: 0.11142989248037338\n",
      "Epoch 65/100, Loss: 0.06217152625322342\n",
      "Epoch 66/100, Loss: 0.33554062247276306\n",
      "Epoch 67/100, Loss: 0.25541648268699646\n",
      "Epoch 68/100, Loss: 0.2561017870903015\n",
      "Epoch 69/100, Loss: 0.4066183865070343\n",
      "Epoch 70/100, Loss: 0.3458572328090668\n",
      "Epoch 71/100, Loss: 0.15239845216274261\n",
      "Epoch 72/100, Loss: 0.05630999058485031\n",
      "Epoch 73/100, Loss: 0.2677036225795746\n",
      "Epoch 74/100, Loss: 0.23457667231559753\n",
      "Epoch 75/100, Loss: 0.13392120599746704\n",
      "Epoch 76/100, Loss: 0.12540438771247864\n",
      "Epoch 77/100, Loss: 0.061980344355106354\n",
      "Epoch 78/100, Loss: 0.07278452813625336\n",
      "Epoch 79/100, Loss: 0.28543949127197266\n",
      "Epoch 80/100, Loss: 0.23760825395584106\n",
      "Epoch 81/100, Loss: 0.2556130886077881\n",
      "Epoch 82/100, Loss: 0.127096489071846\n",
      "Epoch 83/100, Loss: 0.30154189467430115\n",
      "Epoch 84/100, Loss: 0.2671858072280884\n",
      "Epoch 85/100, Loss: 0.2515961527824402\n",
      "Epoch 86/100, Loss: 0.14845125377178192\n",
      "Epoch 87/100, Loss: 0.298603355884552\n",
      "Epoch 88/100, Loss: 0.3946598470211029\n",
      "Epoch 89/100, Loss: 0.5379670262336731\n",
      "Epoch 90/100, Loss: 0.36179399490356445\n",
      "Epoch 91/100, Loss: 0.13306456804275513\n",
      "Epoch 92/100, Loss: 0.11586344987154007\n",
      "Epoch 93/100, Loss: 0.15507389605045319\n",
      "Epoch 94/100, Loss: 0.2576267719268799\n",
      "Epoch 95/100, Loss: 0.1036740243434906\n",
      "Epoch 96/100, Loss: 0.09942066669464111\n",
      "Epoch 97/100, Loss: 0.42547404766082764\n",
      "Epoch 98/100, Loss: 0.3431786894798279\n",
      "Epoch 99/100, Loss: 0.061411719769239426\n",
      "Epoch 100/100, Loss: 0.2329326868057251\n",
      "Final Loss: 0.2329326868057251\n"
     ]
    }
   ],
   "source": [
    "import torch\n",
    "import torch.nn as nn\n",
    "import torch.optim as optim\n",
    "from torch.utils.data import DataLoader, TensorDataset\n",
    "import matplotlib.pyplot as plt\n",
    "\n",
    "# Hyperparameters\n",
    "hyper_params = {\n",
    "    'batch_size': 16,\n",
    "    'learning_rate': 0.01,\n",
    "    'epochs': 100,\n",
    "    'input_size': X_sparse.shape[1],\n",
    "    'hidden_size': 1000,\n",
    "    'output_size': 1,\n",
    "    'dropout_rate': 0.85,\n",
    "}\n",
    "\n",
    "# Split the data into training and test sets\n",
    "X_train, X_test, y_train, y_test = train_test_split(X_sparse, y, test_size=0.2, random_state=42)\n",
    "\n",
    "# Convert to tensors\n",
    "X_tensor = torch.tensor(X_train.astype(np.float32))\n",
    "y_tensor = torch.tensor(y_train.astype(np.float32)).unsqueeze(1)\n",
    "\n",
    "# Create a Dataset\n",
    "dataset = TensorDataset(X_tensor, y_tensor)\n",
    "\n",
    "# Create a DataLoader\n",
    "data_loader = DataLoader(dataset, batch_size=hyper_params['batch_size'], shuffle=True)\n",
    "\n",
    "# Use CUDA if available\n",
    "device = torch.device('cuda' if torch.cuda.is_available() else 'cpu')\n",
    "\n",
    "# Define the Deep and Wide neural network\n",
    "class DeepWideNN(nn.Module):\n",
    "    def __init__(self, input_size, hidden_size, output_size, dropout_rate):\n",
    "        super(DeepWideNN, self).__init__()\n",
    "        self.deep = nn.Sequential(\n",
    "            nn.Linear(input_size, hidden_size),\n",
    "            nn.ReLU(),\n",
    "            nn.Dropout(dropout_rate),\n",
    "            nn.Linear(hidden_size, output_size),\n",
    "        )\n",
    "\n",
    "    def forward(self, x):\n",
    "        out = self.deep(x)\n",
    "        return out\n",
    "\n",
    "# Initialize the model, loss function, and optimizer\n",
    "nn_model = DeepWideNN(\n",
    "    input_size=hyper_params['input_size'],\n",
    "    hidden_size=hyper_params['hidden_size'],\n",
    "    output_size=hyper_params['output_size'],\n",
    "    dropout_rate=hyper_params['dropout_rate']\n",
    ").to(device)\n",
    "criterion = nn.BCEWithLogitsLoss()\n",
    "optimizer = optim.SGD(nn_model.parameters(), lr=hyper_params['learning_rate'])\n",
    "\n",
    "# Training loop\n",
    "for epoch in range(hyper_params['epochs']):\n",
    "    for i, (inputs, labels) in enumerate(data_loader):\n",
    "        inputs, labels = inputs.to(device), labels.to(device)\n",
    "\n",
    "        # Forward pass\n",
    "        outputs = nn_model(inputs)\n",
    "        loss = criterion(outputs, labels)\n",
    "\n",
    "        # Backward and optimize\n",
    "        optimizer.zero_grad()\n",
    "        loss.backward()\n",
    "        optimizer.step()\n",
    "    print(f'Epoch {epoch+1}/{hyper_params[\"epochs\"]}, Loss: {loss.item()}')\n",
    "\n",
    "# Display the final loss\n",
    "print(f\"Final Loss: {loss.item()}\")\n",
    "\n",
    "# Save the model\n",
    "torch.save(nn_model.state_dict(), \"nn_model.pth\")\n"
   ]
  },
  {
   "cell_type": "markdown",
   "id": "e79814cf",
   "metadata": {},
   "source": [
    "## Tuning our Deep and Wide model"
   ]
  },
  {
   "cell_type": "code",
   "execution_count": 39,
   "id": "0e3e5431",
   "metadata": {},
   "outputs": [
    {
     "name": "stderr",
     "output_type": "stream",
     "text": [
      "\r",
      "  0%|          | 0/6 [00:00<?, ?it/s]"
     ]
    },
    {
     "name": "stdout",
     "output_type": "stream",
     "text": [
      "tensor(0.6923)\n",
      "tensor(0.7212)\n",
      "tensor(0.7500)\n",
      "tensor(0.7885)\n",
      "tensor(0.7981)\n",
      "tensor(0.8750)\n",
      "tensor(0.8846)\n",
      "tensor(0.8942)\n",
      "tensor(0.9038)\n",
      "tensor(0.9135)\n",
      "tensor(0.9231)\n",
      "tensor(0.9327)\n",
      "tensor(0.9423)\n",
      "tensor(0.9519)\n",
      "tensor(0.9615)\n"
     ]
    },
    {
     "name": "stderr",
     "output_type": "stream",
     "text": [
      "100%|██████████| 6/6 [08:12<00:00, 82.13s/it] "
     ]
    },
    {
     "name": "stdout",
     "output_type": "stream",
     "text": [
      "Best Params: {'batch_size': 16, 'learning_rate': 0.1, 'hidden_size': 500, 'dropout_rate': 0.15}, Best Accuracy: 0.9615384340286255\n"
     ]
    },
    {
     "name": "stderr",
     "output_type": "stream",
     "text": [
      "\n"
     ]
    }
   ],
   "source": [
    "import json\n",
    "from tqdm import tqdm\n",
    "# Define a list or range of values for each hyperparameter\n",
    "batch_sizes = [16,32,64,128, 256, 512]\n",
    "learning_rates = [0.0001,0.001, 0.01, 0.1]\n",
    "hidden_sizes = [50, 100, 500, 1000, 1500]\n",
    "dropout_rates = [0.15, 0.3, 0.5, 0.7, 0.85]\n",
    "\n",
    "# Placeholder variables for storing the best parameters and the best accuracy\n",
    "best_params = None\n",
    "best_accuracy = 0.0\n",
    "\n",
    "# Use CUDA if available\n",
    "device = torch.device('cuda' if torch.cuda.is_available() else 'cpu')\n",
    "\n",
    "# Loop over the hyperparameters\n",
    "for batch_size in tqdm(batch_sizes):\n",
    "    for learning_rate in learning_rates:\n",
    "        for hidden_size in hidden_sizes:\n",
    "            for dropout_rate in dropout_rates:\n",
    "\n",
    "                # Create a DataLoader with the current batch_size\n",
    "                data_loader = DataLoader(dataset, batch_size=batch_size, shuffle=True)\n",
    "\n",
    "                # Initialize the model, loss function, and optimizer with the current hyperparameters\n",
    "                nn_model = DeepWideNN(\n",
    "                    input_size=hyper_params['input_size'],\n",
    "                    hidden_size=hidden_size,\n",
    "                    output_size=hyper_params['output_size'],\n",
    "                    dropout_rate=dropout_rate\n",
    "                ).to(device)\n",
    "                criterion = nn.BCEWithLogitsLoss()\n",
    "                optimizer = optim.SGD(nn_model.parameters(), lr=learning_rate)\n",
    "\n",
    "                # Training loop\n",
    "                for epoch in range(hyper_params['epochs']):\n",
    "                    for i, (inputs, labels) in enumerate(data_loader):\n",
    "                        inputs, labels = inputs.to(device), labels.to(device)\n",
    "\n",
    "                        # Forward pass\n",
    "                        outputs = nn_model(inputs)\n",
    "                        loss = criterion(outputs, labels)\n",
    "\n",
    "                        # Backward and optimize\n",
    "                        optimizer.zero_grad()\n",
    "                        loss.backward()\n",
    "                        optimizer.step()\n",
    "\n",
    "                # Evaluate the model on the test set to get the accuracy\n",
    "                nn_model.eval()\n",
    "                with torch.no_grad():\n",
    "                    X_test_tensor = torch.tensor(X_test.astype(np.float32)).to(device)\n",
    "                    y_test_tensor = torch.tensor(y_test.astype(np.float32)).unsqueeze(1).to(device)\n",
    "                    outputs = nn_model(X_test_tensor)\n",
    "                    predictions = torch.sigmoid(outputs) > 0.5\n",
    "                    accuracy = (predictions == y_test_tensor).float().mean()\n",
    "\n",
    "                # If the accuracy is better than the best_accuracy found so far, update the best_params and best_accuracy\n",
    "                if accuracy > best_accuracy:\n",
    "                    print(accuracy)\n",
    "                    best_params = {'batch_size': batch_size, 'learning_rate': learning_rate, \n",
    "                                   'hidden_size': hidden_size, 'dropout_rate': dropout_rate}\n",
    "                    best_accuracy = accuracy\n",
    "\n",
    "# Print the best hyperparameters and the corresponding accuracy\n",
    "print(f\"Best Params: {best_params}, Best Accuracy: {best_accuracy}\")\n",
    "\n",
    "# Save the best parameters\n",
    "with open(\"best_params.json\", \"w\") as f:\n",
    "    json.dump(best_params, f)\n"
   ]
  },
  {
   "cell_type": "code",
   "execution_count": 40,
   "id": "6edc1507",
   "metadata": {},
   "outputs": [],
   "source": [
    "from sklearn.base import BaseEstimator, ClassifierMixin\n",
    "\n",
    "class PyTorchClassifier(BaseEstimator, ClassifierMixin):\n",
    "    def __init__(self, model, criterion, optimizer, epochs):\n",
    "        self.model = model\n",
    "        self.criterion = criterion\n",
    "        self.optimizer = optimizer\n",
    "        self.epochs = epochs\n",
    "\n",
    "    def fit(self, X, y):\n",
    "\n",
    "        dataset = TensorDataset(X, y)\n",
    "        data_loader = DataLoader(dataset, batch_size=hyper_params['batch_size'], shuffle=True)\n",
    "\n",
    "        for epoch in range(self.epochs):\n",
    "            for i, (inputs, labels) in enumerate(data_loader):\n",
    "                inputs, labels = inputs.to(device), labels.to(device)\n",
    "\n",
    "                # Forward pass\n",
    "                outputs = self.model(inputs)\n",
    "                loss = self.criterion(outputs, labels)\n",
    "\n",
    "                # Backward and optimize\n",
    "                self.optimizer.zero_grad()\n",
    "                loss.backward()\n",
    "                self.optimizer.step()\n",
    "\n",
    "        return self\n",
    "\n",
    "    def predict_proba(self, X):\n",
    "        with torch.no_grad():\n",
    "            outputs = self.model(X)\n",
    "            probs = torch.sigmoid(outputs)\n",
    "            return probs.cpu().numpy()\n",
    "\n",
    "    def predict(self, X):\n",
    "        probas = self.predict_proba(X)\n",
    "        return (probas > 0.5).astype(int)\n",
    "\n",
    "# Wrap the PyTorch model\n",
    "nn_model_sklearn = PyTorchClassifier(nn_model, criterion, optimizer, epochs=hyper_params['epochs'])\n",
    "\n",
    "# Now, you can use nn_model_sklearn in your sklearn ensemble models\n"
   ]
  },
  {
   "cell_type": "code",
   "execution_count": 41,
   "id": "c13e38ec",
   "metadata": {},
   "outputs": [
    {
     "name": "stdout",
     "output_type": "stream",
     "text": [
      "              precision    recall  f1-score   support\n",
      "\n",
      "           0       0.91      0.97      0.94        33\n",
      "           1       0.99      0.96      0.97        71\n",
      "\n",
      "    accuracy                           0.96       104\n",
      "   macro avg       0.95      0.96      0.96       104\n",
      "weighted avg       0.96      0.96      0.96       104\n",
      "\n"
     ]
    },
    {
     "data": {
      "image/png": "[encoded data removed]",
      "text/plain": [
       "<Figure size 432x288 with 2 Axes>"
      ]
     },
     "metadata": {
      "needs_background": "light"
     },
     "output_type": "display_data"
    }
   ],
   "source": [
    "# Fit the model\n",
    "X_train_tensor = torch.tensor(X_train.astype(np.float32))\n",
    "y_train_tensor = torch.tensor(y_train.astype(np.float32)).unsqueeze(1)\n",
    "X_test_tensor = torch.tensor(X_test.astype(np.float32))\n",
    "\n",
    "nn_model_sklearn.fit(X_train_tensor, y_train_tensor)\n",
    "y_pred = nn_model_sklearn.predict(X_test_tensor)\n",
    "\n",
    "# Print classification report\n",
    "print(classification_report(y_test, y_pred))\n",
    "\n",
    "# Print confusion matrix\n",
    "cm = confusion_matrix(y_test, y_pred)\n",
    "sns.heatmap(cm, annot=True, fmt='d')\n",
    "plt.title('Confusion Matrix for Deep and Wide Network')\n",
    "plt.xlabel('Predicted')\n",
    "plt.ylabel('True')\n",
    "plt.show()"
   ]
  },
  {
   "cell_type": "markdown",
   "id": "752bcc21",
   "metadata": {},
   "source": [
    "#####\n",
    "After running all 3 models, perform ensemble methods of VOTING and STACKING.  Compare results\n",
    "#####"
   ]
  },
  {
   "cell_type": "code",
   "execution_count": 42,
   "id": "8e1b22a5",
   "metadata": {},
   "outputs": [],
   "source": [
    "class PyTorchClassifierWrapper(BaseEstimator, ClassifierMixin):\n",
    "    def __init__(self, model, epochs=5):\n",
    "        self.model = model\n",
    "        self.epochs = epochs\n",
    "\n",
    "    def fit(self, X, y):\n",
    "        X_tensor = torch.tensor(X.astype(np.float32))\n",
    "        y_tensor = torch.tensor(y.astype(np.float32)).unsqueeze(1)\n",
    "        self.model.fit(X_tensor, y_tensor)\n",
    "        return self\n",
    "\n",
    "    def predict(self, X):\n",
    "        X_tensor = torch.tensor(X.astype(np.float32))\n",
    "        y_pred = self.model.predict(X_tensor)\n",
    "        return y_pred.cpu().numpy()\n",
    "\n",
    "    def predict_proba(self, X):\n",
    "        y_pred = self.predict(X)\n",
    "        return np.column_stack((1 - y_pred, y_pred))\n",
    "\n",
    "nn_model_sklearn_wrapped = PyTorchClassifierWrapper(nn_model_sklearn)\n"
   ]
  },
  {
   "cell_type": "code",
   "execution_count": 43,
   "id": "95b4e11a",
   "metadata": {},
   "outputs": [
    {
     "name": "stdout",
     "output_type": "stream",
     "text": [
      "Accuracy of voting ensemble: 0.9615384615384616\n",
      "Accuracy of stacking ensemble: 0.9615384615384616\n"
     ]
    }
   ],
   "source": [
    "from sklearn.ensemble import VotingClassifier, StackingClassifier\n",
    "from sklearn.metrics import accuracy_score\n",
    "class PyTorchClassifierWrapper(BaseEstimator, ClassifierMixin):\n",
    "    def __init__(self, model, epochs=5):\n",
    "        self.model = model\n",
    "        self.epochs = epochs\n",
    "        self.classes_ = None  # Initialize classes_ attribute\n",
    "\n",
    "    def fit(self, X, y):\n",
    "        X_tensor = torch.tensor(X.astype(np.float32))\n",
    "        y_tensor = torch.tensor(y.astype(np.float32)).unsqueeze(1)\n",
    "        self.classes_ = np.unique(y)  # update classes_ attribute on fit\n",
    "        self.model.fit(X_tensor, y_tensor)\n",
    "        return self\n",
    "\n",
    "    def predict(self, X):\n",
    "        X_tensor = torch.tensor(X.astype(np.float32))\n",
    "        y_pred = self.model.predict(X_tensor)\n",
    "        return y_pred \n",
    "\n",
    "    def predict_proba(self, X):\n",
    "        y_pred = self.predict(X)\n",
    "        return np.column_stack((1 - y_pred, y_pred))\n",
    "\n",
    "\n",
    "nn_model_sklearn_wrapped = PyTorchClassifierWrapper(nn_model_sklearn)\n",
    "\n",
    "# Initialize the ensemble models\n",
    "voting = VotingClassifier(estimators=[('lr', log_reg), ('rf', random_forest), ('nn', nn_model_sklearn_wrapped)], voting='soft')\n",
    "stacking = StackingClassifier(estimators=[('lr', log_reg), ('rf', random_forest), ('nn', nn_model_sklearn_wrapped)], final_estimator=LogisticRegression())\n",
    "\n",
    "# Fit the voting ensemble model\n",
    "voting.fit(X_train, y_train)\n",
    "\n",
    "# Predict the test set results\n",
    "y_pred_voting = voting.predict(X_test)\n",
    "\n",
    "# Fit the stacking ensemble model\n",
    "stacking.fit(X_train, y_train)\n",
    "\n",
    "# Predict the test set results\n",
    "y_pred_stacking = stacking.predict(X_test)\n",
    "\n",
    "# Calculate the accuracy of the voting ensemble\n",
    "accuracy_voting = accuracy_score(y_test, y_pred_voting)\n",
    "\n",
    "# Calculate the accuracy of the stacking ensemble\n",
    "accuracy_stacking = accuracy_score(y_test, y_pred_stacking)\n",
    "\n",
    "# Print the accuracies\n",
    "print(f'Accuracy of voting ensemble: {accuracy_voting}')\n",
    "print(f'Accuracy of stacking ensemble: {accuracy_stacking}')\n",
    "\n",
    "# Choose the better model\n",
    "if accuracy_voting > accuracy_stacking:\n",
    "    best_model = voting\n",
    "else:\n",
    "    best_model = stacking\n"
   ]
  },
  {
   "cell_type": "code",
   "execution_count": 44,
   "id": "57acf14f",
   "metadata": {},
   "outputs": [
    {
     "name": "stdout",
     "output_type": "stream",
     "text": [
      "Classification Report for Voting Ensemble:\n",
      "              precision    recall  f1-score   support\n",
      "\n",
      "           0       0.91      0.97      0.94        33\n",
      "           1       0.99      0.96      0.97        71\n",
      "\n",
      "    accuracy                           0.96       104\n",
      "   macro avg       0.95      0.96      0.96       104\n",
      "weighted avg       0.96      0.96      0.96       104\n",
      "\n"
     ]
    },
    {
     "data": {
      "image/png": "[encoded data removed]",
      "text/plain": [
       "<Figure size 432x288 with 2 Axes>"
      ]
     },
     "metadata": {
      "needs_background": "light"
     },
     "output_type": "display_data"
    }
   ],
   "source": [
    "#Voting ensemble\n",
    "\n",
    "# Fit the model and make predictions\n",
    "voting.fit(X_train, y_train)\n",
    "y_pred_voting = voting.predict(X_test)\n",
    "\n",
    "# Print classification report\n",
    "print(\"Classification Report for Voting Ensemble:\")\n",
    "print(classification_report(y_test, y_pred_voting))\n",
    "\n",
    "# Print confusion matrix\n",
    "cm_voting = confusion_matrix(y_test, y_pred_voting)\n",
    "sns.heatmap(cm_voting, annot=True, fmt='d')\n",
    "plt.title('Confusion Matrix for Voting Ensemble')\n",
    "plt.xlabel('Predicted')\n",
    "plt.ylabel('True')\n",
    "plt.show()\n"
   ]
  },
  {
   "cell_type": "code",
   "execution_count": 45,
   "id": "94cc1ce9",
   "metadata": {},
   "outputs": [
    {
     "name": "stdout",
     "output_type": "stream",
     "text": [
      "Classification Report for Stacking Ensemble:\n",
      "              precision    recall  f1-score   support\n",
      "\n",
      "           0       0.91      0.97      0.94        33\n",
      "           1       0.99      0.96      0.97        71\n",
      "\n",
      "    accuracy                           0.96       104\n",
      "   macro avg       0.95      0.96      0.96       104\n",
      "weighted avg       0.96      0.96      0.96       104\n",
      "\n"
     ]
    },
    {
     "data": {
      "image/png": "[encoded data removed]",
      "text/plain": [
       "<Figure size 432x288 with 2 Axes>"
      ]
     },
     "metadata": {
      "needs_background": "light"
     },
     "output_type": "display_data"
    }
   ],
   "source": [
    "#Stacking ensemble\n",
    "\n",
    "# Fit the model and make predictions\n",
    "stacking.fit(X_train, y_train)\n",
    "y_pred_stacking = stacking.predict(X_test)\n",
    "\n",
    "# Print classification report\n",
    "print(\"Classification Report for Stacking Ensemble:\")\n",
    "print(classification_report(y_test, y_pred_stacking))\n",
    "\n",
    "# Print confusion matrix\n",
    "cm_stacking = confusion_matrix(y_test, y_pred_stacking)\n",
    "sns.heatmap(cm_stacking, annot=True, fmt='d')\n",
    "plt.title('Confusion Matrix for Stacking Ensemble')\n",
    "plt.xlabel('Predicted')\n",
    "plt.ylabel('True')\n",
    "plt.show()\n"
   ]
  },
  {
   "cell_type": "code",
   "execution_count": 10,
   "id": "a14b3ce1",
   "metadata": {},
   "outputs": [
    {
     "data": {
      "image/png": "[encoded data removed]",
      "text/plain": [
       "<Figure size 432x288 with 1 Axes>"
      ]
     },
     "metadata": {
      "needs_background": "light"
     },
     "output_type": "display_data"
    },
    {
     "name": "stdout",
     "output_type": "stream",
     "text": [
      "Sparse PCA Statistics:\n",
      "Explained Variance Ratio:\n",
      "Principal Component 1: 0.8776\n",
      "Principal Component 2: 0.0676\n",
      "Principal Component 3: 0.0248\n",
      "Principal Component 4: 0.0168\n",
      "Principal Component 5: 0.0091\n",
      "Principal Component 6: 0.0041\n",
      "Principal Component 7: 0.0000\n",
      "\n",
      "Key Features:\n",
      "Principal Component 1: Insulin\n",
      "Principal Component 2: Glucose\n",
      "Principal Component 3: BloodPressure\n",
      "Principal Component 4: SkinThickness\n",
      "Principal Component 5: Age\n",
      "Principal Component 6: BMI\n",
      "Principal Component 7: DiabetesPedigreeFunction\n"
     ]
    }
   ],
   "source": [
    "#Analyze the dataset after running sparse PCA.  What do we know about the attributes?\n",
    "\n",
    "import os\n",
    "import pandas as pd\n",
    "import numpy as np\n",
    "import matplotlib.pyplot as plt\n",
    "from sklearn.decomposition import SparsePCA\n",
    "from sklearn.model_selection import train_test_split\n",
    "\n",
    "# Get the current directory\n",
    "current_dir = os.getcwd()\n",
    "\n",
    "# Find the .csv file in the current directory\n",
    "csv_files = [file for file in os.listdir(current_dir) if file.endswith(\".csv\")]\n",
    "\n",
    "# Check if the .csv file exists\n",
    "if \"diabetes.csv\" in csv_files:\n",
    "    dataset_file = os.path.join(current_dir, \"diabetes.csv\")\n",
    "else:\n",
    "    raise FileNotFoundError(\"diabetes.csv file not found in the current directory.\")\n",
    "\n",
    "# Define a data loader function\n",
    "def load_dataset(file_path):\n",
    "    # Load the dataset from the CSV file\n",
    "    df = pd.read_csv(file_path)\n",
    "\n",
    "    # Perform one-hot encoding for categorical variables\n",
    "    df_encoded = pd.get_dummies(df, drop_first=True)\n",
    "    \n",
    "    # Get the feature names\n",
    "    feature_names = df_encoded.columns[:-1]  # Exclude target variable\n",
    "\n",
    "    # Extract the feature matrix X\n",
    "    X = df_encoded.iloc[:, :-1].values\n",
    "\n",
    "    X[:,0] = X[:,0]/max(X[:,0])\n",
    "    \n",
    "    # Extract the target variable y\n",
    "    y = df_encoded.iloc[:, -1].values\n",
    "\n",
    "    return X, y, feature_names\n",
    "\n",
    "# Load the dataset using the data loader\n",
    "X, y, feature_names = load_dataset(dataset_file)\n",
    "\n",
    "# Initialize SparsePCA\n",
    "sparse_pca = SparsePCA(n_components=7, random_state=42)\n",
    "\n",
    "# Fit and transform the data\n",
    "X_sparse = sparse_pca.fit_transform(X)\n",
    "\n",
    "# Calculate the explained variance ratio manually\n",
    "explained_variance = np.var(X_sparse, axis=0)\n",
    "explained_variance_ratio = explained_variance / np.sum(explained_variance)\n",
    "\n",
    "# Plot explained variance ratio\n",
    "plt.bar(range(len(explained_variance_ratio)), explained_variance_ratio)\n",
    "plt.xlabel('Principal Component')\n",
    "plt.ylabel('Explained Variance Ratio')\n",
    "plt.title('Explained Variance Ratio for Sparse PCA')\n",
    "plt.show()\n",
    "\n",
    "\n",
    "# Identify key features\n",
    "key_features = np.abs(sparse_pca.components_).argmax(axis=1)\n",
    "\n",
    "# Print statistics, plots, and key features\n",
    "print(\"Sparse PCA Statistics:\")\n",
    "print(\"Explained Variance Ratio:\")\n",
    "for i, ratio in enumerate(explained_variance_ratio):\n",
    "    print(f\"Principal Component {i+1}: {ratio:.4f}\")\n",
    "\n",
    "print(\"\\nKey Features:\")\n",
    "for i, feature_idx in enumerate(key_features):\n",
    "    print(f\"Principal Component {i+1}: {feature_names[feature_idx]}\")"
   ]
  },
  {
   "cell_type": "code",
   "execution_count": 11,
   "id": "b40d3bbf",
   "metadata": {},
   "outputs": [],
   "source": [
    "#Logistic Regression\n",
    "\n",
    "from sklearn.linear_model import LogisticRegression\n",
    "from sklearn.model_selection import train_test_split\n",
    "\n",
    "# Split the data into training and test sets\n",
    "X_train, X_test, y_train, y_test = train_test_split(X_sparse, y, test_size=0.2, random_state=42)\n",
    "\n",
    "# Define hyperparameters for Logistic Regression\n",
    "log_reg_params = {\n",
    "    'penalty': 'l2',  # Regularization penalty ('l1', 'l2', 'elasticnet', 'none')\n",
    "    'C': 1.0,  # Inverse of regularization strength\n",
    "    'solver': 'lbfgs',  # Algorithm to use for optimization ('newton-cg', 'lbfgs', 'liblinear', 'sag', 'saga')\n",
    "    'max_iter': 100,  # Maximum number of iterations\n",
    "    'random_state': 42  # Random seed for reproducibility\n",
    "}\n",
    "\n",
    "# Initialize Logistic Regression with hyperparameters\n",
    "log_reg = LogisticRegression(**log_reg_params)\n",
    "\n",
    "# Fit the model\n",
    "log_reg.fit(X_train, y_train)\n",
    "\n",
    "# Predict the test set results\n",
    "y_pred = log_reg.predict(X_test)\n"
   ]
  },
  {
   "cell_type": "code",
   "execution_count": 12,
   "id": "b911a775",
   "metadata": {},
   "outputs": [
    {
     "name": "stdout",
     "output_type": "stream",
     "text": [
      "              precision    recall  f1-score   support\n",
      "\n",
      "           0       0.81      0.83      0.82        99\n",
      "           1       0.68      0.65      0.67        55\n",
      "\n",
      "    accuracy                           0.77       154\n",
      "   macro avg       0.75      0.74      0.74       154\n",
      "weighted avg       0.76      0.77      0.77       154\n",
      "\n"
     ]
    },
    {
     "data": {
      "image/png": "[encoded data removed]",
      "text/plain": [
       "<Figure size 432x288 with 2 Axes>"
      ]
     },
     "metadata": {
      "needs_background": "light"
     },
     "output_type": "display_data"
    }
   ],
   "source": [
    "#Stats and plots for LogReg\n",
    "\n",
    "from sklearn.metrics import classification_report, confusion_matrix\n",
    "import matplotlib.pyplot as plt\n",
    "import seaborn as sns\n",
    "# Fit the model and make predictions\n",
    "log_reg.fit(X_train, y_train)\n",
    "y_pred = log_reg.predict(X_test)\n",
    "\n",
    "# Print classification report\n",
    "print(classification_report(y_test, y_pred))\n",
    "\n",
    "# Print confusion matrix\n",
    "cm = confusion_matrix(y_test, y_pred)\n",
    "sns.heatmap(cm, annot=True, fmt='d')\n",
    "plt.title('Confusion Matrix for Logistic Regression')\n",
    "plt.xlabel('Predicted')\n",
    "plt.ylabel('True')\n",
    "plt.show()\n"
   ]
  },
  {
   "cell_type": "markdown",
   "id": "b1168be1",
   "metadata": {},
   "source": [
    "######\n",
    "2. Run Random Forest\n",
    "#####"
   ]
  },
  {
   "cell_type": "code",
   "execution_count": 13,
   "id": "0c3ce774",
   "metadata": {},
   "outputs": [],
   "source": [
    "#Random Forest\n",
    "\n",
    "from sklearn.ensemble import RandomForestClassifier\n",
    "\n",
    "# Initialize Random Forest\n",
    "random_forest = RandomForestClassifier(n_estimators=100, random_state=42)\n",
    "\n",
    "# Fit the model\n",
    "random_forest.fit(X_train, y_train)\n",
    "\n",
    "# Predict the test set results\n",
    "y_pred = random_forest.predict(X_test)"
   ]
  },
  {
   "cell_type": "code",
   "execution_count": 14,
   "id": "6b86a21f",
   "metadata": {},
   "outputs": [
    {
     "name": "stdout",
     "output_type": "stream",
     "text": [
      "              precision    recall  f1-score   support\n",
      "\n",
      "           0       0.80      0.79      0.80        99\n",
      "           1       0.63      0.65      0.64        55\n",
      "\n",
      "    accuracy                           0.74       154\n",
      "   macro avg       0.72      0.72      0.72       154\n",
      "weighted avg       0.74      0.74      0.74       154\n",
      "\n"
     ]
    },
    {
     "data": {
      "image/png": "[encoded data removed]",
      "text/plain": [
       "<Figure size 432x288 with 2 Axes>"
      ]
     },
     "metadata": {
      "needs_background": "light"
     },
     "output_type": "display_data"
    }
   ],
   "source": [
    "# Fit the model and make predictions\n",
    "random_forest.fit(X_train, y_train)\n",
    "y_pred = random_forest.predict(X_test)\n",
    "\n",
    "# Print classification report\n",
    "print(classification_report(y_test, y_pred))\n",
    "\n",
    "# Print confusion matrix\n",
    "cm = confusion_matrix(y_test, y_pred)\n",
    "sns.heatmap(cm, annot=True, fmt='d')\n",
    "plt.title('Confusion Matrix for Random Forest')\n",
    "plt.xlabel('Predicted')\n",
    "plt.ylabel('True')\n",
    "plt.show()"
   ]
  },
  {
   "cell_type": "markdown",
   "id": "111c381d",
   "metadata": {},
   "source": [
    "## Deep and Wide NN"
   ]
  },
  {
   "cell_type": "code",
   "execution_count": 15,
   "id": "c95b0e86",
   "metadata": {},
   "outputs": [
    {
     "name": "stdout",
     "output_type": "stream",
     "text": [
      "Epoch 1/100, Loss: 285.64630126953125\n",
      "Epoch 2/100, Loss: 2227.681396484375\n",
      "Epoch 3/100, Loss: 43.9911994934082\n",
      "Epoch 4/100, Loss: 13412.0078125\n",
      "Epoch 5/100, Loss: 531.6267700195312\n",
      "Epoch 6/100, Loss: 2397.436279296875\n",
      "Epoch 7/100, Loss: 539.0026245117188\n",
      "Epoch 8/100, Loss: 869.838134765625\n",
      "Epoch 9/100, Loss: 552.6967163085938\n",
      "Epoch 10/100, Loss: 1829.373046875\n",
      "Epoch 11/100, Loss: 30818.912109375\n",
      "Epoch 12/100, Loss: 1850.0203857421875\n",
      "Epoch 13/100, Loss: 4481.11669921875\n",
      "Epoch 14/100, Loss: 2103.671630859375\n",
      "Epoch 15/100, Loss: 663.8307495117188\n",
      "Epoch 16/100, Loss: 5603.86865234375\n",
      "Epoch 17/100, Loss: 0.0\n",
      "Epoch 18/100, Loss: 7328.05419921875\n",
      "Epoch 19/100, Loss: 2941.384765625\n",
      "Epoch 20/100, Loss: 5130.48486328125\n",
      "Epoch 21/100, Loss: 14519.5546875\n",
      "Epoch 22/100, Loss: 1193.042236328125\n",
      "Epoch 23/100, Loss: 30806.556640625\n",
      "Epoch 24/100, Loss: 21451.560546875\n",
      "Epoch 25/100, Loss: 5701.00048828125\n",
      "Epoch 26/100, Loss: 22556.0078125\n",
      "Epoch 27/100, Loss: 41177.140625\n",
      "Epoch 28/100, Loss: 8368.091796875\n",
      "Epoch 29/100, Loss: 16267.6875\n",
      "Epoch 30/100, Loss: 3557.489013671875\n",
      "Epoch 31/100, Loss: 399.8220520019531\n",
      "Epoch 32/100, Loss: 34393.01171875\n",
      "Epoch 33/100, Loss: 0.0\n",
      "Epoch 34/100, Loss: 0.0\n",
      "Epoch 35/100, Loss: 19751.326171875\n",
      "Epoch 36/100, Loss: 358346.59375\n",
      "Epoch 37/100, Loss: 21759.78515625\n",
      "Epoch 38/100, Loss: 29042.923828125\n",
      "Epoch 39/100, Loss: 34524.98046875\n",
      "Epoch 40/100, Loss: 86247.96875\n",
      "Epoch 41/100, Loss: 72995.4375\n",
      "Epoch 42/100, Loss: 91080.2890625\n",
      "Epoch 43/100, Loss: 22022.53125\n",
      "Epoch 44/100, Loss: 71656.0078125\n",
      "Epoch 45/100, Loss: 0.0\n",
      "Epoch 46/100, Loss: 214747.3125\n",
      "Epoch 47/100, Loss: 552420.4375\n",
      "Epoch 48/100, Loss: 4279043.0\n",
      "Epoch 49/100, Loss: 76967.4921875\n",
      "Epoch 50/100, Loss: 1188877.5\n",
      "Epoch 51/100, Loss: 146162.25\n",
      "Epoch 52/100, Loss: 649548.9375\n",
      "Epoch 53/100, Loss: 738370.3125\n",
      "Epoch 54/100, Loss: 0.0\n",
      "Epoch 55/100, Loss: 1187215.625\n",
      "Epoch 56/100, Loss: 130928.8671875\n",
      "Epoch 57/100, Loss: 1123607.875\n",
      "Epoch 58/100, Loss: 2472061.75\n",
      "Epoch 59/100, Loss: 332533.875\n",
      "Epoch 60/100, Loss: 1310490.25\n",
      "Epoch 61/100, Loss: 201585.140625\n",
      "Epoch 62/100, Loss: 1005988.25\n",
      "Epoch 63/100, Loss: 2110784.25\n",
      "Epoch 64/100, Loss: 1543136.625\n",
      "Epoch 65/100, Loss: 1035211.5\n",
      "Epoch 66/100, Loss: 1929425.375\n",
      "Epoch 67/100, Loss: 2792210.0\n",
      "Epoch 68/100, Loss: 733151.0\n",
      "Epoch 69/100, Loss: 11525824.0\n",
      "Epoch 70/100, Loss: 7217214.5\n",
      "Epoch 71/100, Loss: 1344808.0\n",
      "Epoch 72/100, Loss: 3181970.0\n",
      "Epoch 73/100, Loss: 6977120.5\n",
      "Epoch 74/100, Loss: 6805404.5\n",
      "Epoch 75/100, Loss: 8040644.5\n",
      "Epoch 76/100, Loss: 262238.375\n",
      "Epoch 77/100, Loss: 6416219.5\n",
      "Epoch 78/100, Loss: 7528026.5\n",
      "Epoch 79/100, Loss: 1749772.0\n",
      "Epoch 80/100, Loss: 17082408.0\n",
      "Epoch 81/100, Loss: 5675212.0\n",
      "Epoch 82/100, Loss: 8547346.0\n",
      "Epoch 83/100, Loss: 18810490.0\n",
      "Epoch 84/100, Loss: 0.0\n",
      "Epoch 85/100, Loss: 17545944.0\n",
      "Epoch 86/100, Loss: 18209592.0\n",
      "Epoch 87/100, Loss: 91412672.0\n",
      "Epoch 88/100, Loss: 16145581.0\n",
      "Epoch 89/100, Loss: 36617124.0\n",
      "Epoch 90/100, Loss: 25168246.0\n",
      "Epoch 91/100, Loss: 34402180.0\n",
      "Epoch 92/100, Loss: 50461060.0\n",
      "Epoch 93/100, Loss: 30256426.0\n",
      "Epoch 94/100, Loss: 87341880.0\n",
      "Epoch 95/100, Loss: 67950864.0\n",
      "Epoch 96/100, Loss: 37228988.0\n",
      "Epoch 97/100, Loss: 7990610.5\n",
      "Epoch 98/100, Loss: 311784416.0\n",
      "Epoch 99/100, Loss: 22650248.0\n",
      "Epoch 100/100, Loss: 17998390.0\n",
      "Final Loss: 17998390.0\n"
     ]
    }
   ],
   "source": [
    "import torch\n",
    "import torch.nn as nn\n",
    "import torch.optim as optim\n",
    "from torch.utils.data import DataLoader, TensorDataset\n",
    "import matplotlib.pyplot as plt\n",
    "\n",
    "# Hyperparameters\n",
    "hyper_params = {\n",
    "    'batch_size': 16,\n",
    "    'learning_rate': 0.01,\n",
    "    'epochs': 100,\n",
    "    'input_size': X_sparse.shape[1],\n",
    "    'hidden_size': 1000,\n",
    "    'output_size': 1,\n",
    "    'dropout_rate': 0.85,\n",
    "}\n",
    "\n",
    "# Split the data into training and test sets\n",
    "X_train, X_test, y_train, y_test = train_test_split(X_sparse, y, test_size=0.2, random_state=42)\n",
    "\n",
    "# Convert to tensors\n",
    "X_tensor = torch.tensor(X_train.astype(np.float32))\n",
    "y_tensor = torch.tensor(y_train.astype(np.float32)).unsqueeze(1)\n",
    "\n",
    "# Create a Dataset\n",
    "dataset = TensorDataset(X_tensor, y_tensor)\n",
    "\n",
    "# Create a DataLoader\n",
    "data_loader = DataLoader(dataset, batch_size=hyper_params['batch_size'], shuffle=True)\n",
    "\n",
    "# Use CUDA if available\n",
    "device = torch.device('cuda' if torch.cuda.is_available() else 'cpu')\n",
    "\n",
    "# Define the Deep and Wide neural network\n",
    "class DeepWideNN(nn.Module):\n",
    "    def __init__(self, input_size, hidden_size, output_size, dropout_rate):\n",
    "        super(DeepWideNN, self).__init__()\n",
    "        self.deep = nn.Sequential(\n",
    "            nn.Linear(input_size, hidden_size),\n",
    "            nn.ReLU(),\n",
    "            nn.Dropout(dropout_rate),\n",
    "            nn.Linear(hidden_size, output_size),\n",
    "        )\n",
    "\n",
    "    def forward(self, x):\n",
    "        out = self.deep(x)\n",
    "        return out\n",
    "\n",
    "# Initialize the model, loss function, and optimizer\n",
    "nn_model = DeepWideNN(\n",
    "    input_size=hyper_params['input_size'],\n",
    "    hidden_size=hyper_params['hidden_size'],\n",
    "    output_size=hyper_params['output_size'],\n",
    "    dropout_rate=hyper_params['dropout_rate']\n",
    ").to(device)\n",
    "criterion = nn.BCEWithLogitsLoss()\n",
    "optimizer = optim.SGD(nn_model.parameters(), lr=hyper_params['learning_rate'])\n",
    "\n",
    "# Training loop\n",
    "for epoch in range(hyper_params['epochs']):\n",
    "    for i, (inputs, labels) in enumerate(data_loader):\n",
    "        inputs, labels = inputs.to(device), labels.to(device)\n",
    "\n",
    "        # Forward pass\n",
    "        outputs = nn_model(inputs)\n",
    "        loss = criterion(outputs, labels)\n",
    "\n",
    "        # Backward and optimize\n",
    "        optimizer.zero_grad()\n",
    "        loss.backward()\n",
    "        optimizer.step()\n",
    "    print(f'Epoch {epoch+1}/{hyper_params[\"epochs\"]}, Loss: {loss.item()}')\n",
    "\n",
    "# Display the final loss\n",
    "print(f\"Final Loss: {loss.item()}\")\n",
    "\n",
    "# Save the model\n",
    "torch.save(nn_model.state_dict(), \"nn_model.pth\")"
   ]
  },
  {
   "cell_type": "markdown",
   "id": "7e5d3edd",
   "metadata": {},
   "source": [
    "## Tuning our Deep and Wide model"
   ]
  },
  {
   "cell_type": "code",
   "execution_count": 16,
   "id": "88282af9",
   "metadata": {},
   "outputs": [
    {
     "name": "stderr",
     "output_type": "stream",
     "text": [
      "\r",
      "  0%|          | 0/6 [00:00<?, ?it/s]"
     ]
    },
    {
     "name": "stdout",
     "output_type": "stream",
     "text": [
      "tensor(0.7078)\n",
      "tensor(0.7338)\n",
      "tensor(0.7597)\n",
      "tensor(0.7662)\n",
      "tensor(0.7857)\n"
     ]
    },
    {
     "name": "stderr",
     "output_type": "stream",
     "text": [
      "\r",
      " 17%|█▋        | 1/6 [04:22<21:52, 262.45s/it]"
     ]
    },
    {
     "name": "stdout",
     "output_type": "stream",
     "text": [
      "tensor(0.7922)\n"
     ]
    },
    {
     "name": "stderr",
     "output_type": "stream",
     "text": [
      "100%|██████████| 6/6 [13:17<00:00, 132.92s/it]"
     ]
    },
    {
     "name": "stdout",
     "output_type": "stream",
     "text": [
      "Best Params: {'batch_size': 32, 'learning_rate': 0.01, 'hidden_size': 50, 'dropout_rate': 0.7}, Best Accuracy: 0.7922077775001526\n"
     ]
    },
    {
     "name": "stderr",
     "output_type": "stream",
     "text": [
      "\n"
     ]
    }
   ],
   "source": [
    "import json\n",
    "from tqdm import tqdm\n",
    "# Define a list or range of values for each hyperparameter\n",
    "batch_sizes = [16,32,64,128, 256, 512]\n",
    "learning_rates = [0.0001,0.001, 0.01, 0.1]\n",
    "hidden_sizes = [50, 100, 500, 1000, 1500]\n",
    "dropout_rates = [0.15, 0.3, 0.5, 0.7, 0.85]\n",
    "\n",
    "# Placeholder variables for storing the best parameters and the best accuracy\n",
    "best_params = None\n",
    "best_accuracy = 0.0\n",
    "\n",
    "# Use CUDA if available\n",
    "device = torch.device('cuda' if torch.cuda.is_available() else 'cpu')\n",
    "\n",
    "# Loop over the hyperparameters\n",
    "for batch_size in tqdm(batch_sizes):\n",
    "    for learning_rate in learning_rates:\n",
    "        for hidden_size in hidden_sizes:\n",
    "            for dropout_rate in dropout_rates:\n",
    "\n",
    "                # Create a DataLoader with the current batch_size\n",
    "                data_loader = DataLoader(dataset, batch_size=batch_size, shuffle=True)\n",
    "\n",
    "                # Initialize the model, loss function, and optimizer with the current hyperparameters\n",
    "                nn_model = DeepWideNN(\n",
    "                    input_size=hyper_params['input_size'],\n",
    "                    hidden_size=hidden_size,\n",
    "                    output_size=hyper_params['output_size'],\n",
    "                    dropout_rate=dropout_rate\n",
    "                ).to(device)\n",
    "                criterion = nn.BCEWithLogitsLoss()\n",
    "                optimizer = optim.SGD(nn_model.parameters(), lr=learning_rate)\n",
    "\n",
    "                # Training loop\n",
    "                for epoch in range(hyper_params['epochs']):\n",
    "                    for i, (inputs, labels) in enumerate(data_loader):\n",
    "                        inputs, labels = inputs.to(device), labels.to(device)\n",
    "\n",
    "                        # Forward pass\n",
    "                        outputs = nn_model(inputs)\n",
    "                        loss = criterion(outputs, labels)\n",
    "\n",
    "                        # Backward and optimize\n",
    "                        optimizer.zero_grad()\n",
    "                        loss.backward()\n",
    "                        optimizer.step()\n",
    "\n",
    "                # Evaluate the model on the test set to get the accuracy\n",
    "                nn_model.eval()\n",
    "                with torch.no_grad():\n",
    "                    X_test_tensor = torch.tensor(X_test.astype(np.float32)).to(device)\n",
    "                    y_test_tensor = torch.tensor(y_test.astype(np.float32)).unsqueeze(1).to(device)\n",
    "                    outputs = nn_model(X_test_tensor)\n",
    "                    predictions = torch.sigmoid(outputs) > 0.5\n",
    "                    accuracy = (predictions == y_test_tensor).float().mean()\n",
    "\n",
    "                # If the accuracy is better than the best_accuracy found so far, update the best_params and best_accuracy\n",
    "                if accuracy > best_accuracy:\n",
    "                    print(accuracy)\n",
    "                    best_params = {'batch_size': batch_size, 'learning_rate': learning_rate, \n",
    "                                   'hidden_size': hidden_size, 'dropout_rate': dropout_rate}\n",
    "                    best_accuracy = accuracy\n",
    "\n",
    "# Print the best hyperparameters and the corresponding accuracy\n",
    "print(f\"Best Params: {best_params}, Best Accuracy: {best_accuracy}\")\n",
    "\n",
    "# Save the best parameters\n",
    "with open(\"best_params.json\", \"w\") as f:\n",
    "    json.dump(best_params, f)\n"
   ]
  },
  {
   "cell_type": "code",
   "execution_count": 17,
   "id": "9f6bf56c",
   "metadata": {},
   "outputs": [],
   "source": [
    "from sklearn.base import BaseEstimator, ClassifierMixin\n",
    "\n",
    "class PyTorchClassifier(BaseEstimator, ClassifierMixin):\n",
    "    def __init__(self, model, criterion, optimizer, epochs):\n",
    "        self.model = model\n",
    "        self.criterion = criterion\n",
    "        self.optimizer = optimizer\n",
    "        self.epochs = epochs\n",
    "\n",
    "    def fit(self, X, y):\n",
    "\n",
    "        dataset = TensorDataset(X, y)\n",
    "        data_loader = DataLoader(dataset, batch_size=hyper_params['batch_size'], shuffle=True)\n",
    "\n",
    "        for epoch in range(self.epochs):\n",
    "            for i, (inputs, labels) in enumerate(data_loader):\n",
    "                inputs, labels = inputs.to(device), labels.to(device)\n",
    "\n",
    "                # Forward pass\n",
    "                outputs = self.model(inputs)\n",
    "                loss = self.criterion(outputs, labels)\n",
    "\n",
    "                # Backward and optimize\n",
    "                self.optimizer.zero_grad()\n",
    "                loss.backward()\n",
    "                self.optimizer.step()\n",
    "\n",
    "        return self\n",
    "\n",
    "    def predict_proba(self, X):\n",
    "        with torch.no_grad():\n",
    "            outputs = self.model(X)\n",
    "            probs = torch.sigmoid(outputs)\n",
    "            return probs.cpu().numpy()\n",
    "\n",
    "    def predict(self, X):\n",
    "        probas = self.predict_proba(X)\n",
    "        return (probas > 0.5).astype(int)\n",
    "\n",
    "# Wrap the PyTorch model\n",
    "nn_model_sklearn = PyTorchClassifier(nn_model, criterion, optimizer, epochs=hyper_params['epochs'])\n",
    "\n",
    "# Now, you can use nn_model_sklearn in your sklearn ensemble models\n"
   ]
  },
  {
   "cell_type": "code",
   "execution_count": 18,
   "id": "2189be1c",
   "metadata": {},
   "outputs": [
    {
     "name": "stdout",
     "output_type": "stream",
     "text": [
      "              precision    recall  f1-score   support\n",
      "\n",
      "           0       0.64      1.00      0.78        99\n",
      "           1       0.00      0.00      0.00        55\n",
      "\n",
      "    accuracy                           0.64       154\n",
      "   macro avg       0.32      0.50      0.39       154\n",
      "weighted avg       0.41      0.64      0.50       154\n",
      "\n"
     ]
    },
    {
     "name": "stderr",
     "output_type": "stream",
     "text": [
      "/Users/jack_qin/opt/miniconda3/lib/python3.9/site-packages/sklearn/metrics/_classification.py:1334: UndefinedMetricWarning: Precision and F-score are ill-defined and being set to 0.0 in labels with no predicted samples. Use `zero_division` parameter to control this behavior.\n",
      "  _warn_prf(average, modifier, msg_start, len(result))\n",
      "/Users/jack_qin/opt/miniconda3/lib/python3.9/site-packages/sklearn/metrics/_classification.py:1334: UndefinedMetricWarning: Precision and F-score are ill-defined and being set to 0.0 in labels with no predicted samples. Use `zero_division` parameter to control this behavior.\n",
      "  _warn_prf(average, modifier, msg_start, len(result))\n",
      "/Users/jack_qin/opt/miniconda3/lib/python3.9/site-packages/sklearn/metrics/_classification.py:1334: UndefinedMetricWarning: Precision and F-score are ill-defined and being set to 0.0 in labels with no predicted samples. Use `zero_division` parameter to control this behavior.\n",
      "  _warn_prf(average, modifier, msg_start, len(result))\n"
     ]
    },
    {
     "data": {
      "image/png": "[encoded data removed]",
      "text/plain": [
       "<Figure size 432x288 with 2 Axes>"
      ]
     },
     "metadata": {
      "needs_background": "light"
     },
     "output_type": "display_data"
    }
   ],
   "source": [
    "# Fit the model\n",
    "X_train_tensor = torch.tensor(X_train.astype(np.float32))\n",
    "y_train_tensor = torch.tensor(y_train.astype(np.float32)).unsqueeze(1)\n",
    "X_test_tensor = torch.tensor(X_test.astype(np.float32))\n",
    "\n",
    "nn_model_sklearn.fit(X_train_tensor, y_train_tensor)\n",
    "y_pred = nn_model_sklearn.predict(X_test_tensor)\n",
    "\n",
    "# Print classification report\n",
    "print(classification_report(y_test, y_pred))\n",
    "\n",
    "# Print confusion matrix\n",
    "cm = confusion_matrix(y_test, y_pred)\n",
    "sns.heatmap(cm, annot=True, fmt='d')\n",
    "plt.title('Confusion Matrix for Deep and Wide Network')\n",
    "plt.xlabel('Predicted')\n",
    "plt.ylabel('True')\n",
    "plt.show()"
   ]
  },
  {
   "cell_type": "markdown",
   "id": "ffca5394",
   "metadata": {},
   "source": [
    "#####\n",
    "After running all 3 models, perform ensemble methods of VOTING and STACKING.  Compare results\n",
    "#####"
   ]
  },
  {
   "cell_type": "code",
   "execution_count": 19,
   "id": "2f08c0a0",
   "metadata": {},
   "outputs": [],
   "source": [
    "class PyTorchClassifierWrapper(BaseEstimator, ClassifierMixin):\n",
    "    def __init__(self, model, epochs=5):\n",
    "        self.model = model\n",
    "        self.epochs = epochs\n",
    "\n",
    "    def fit(self, X, y):\n",
    "        X_tensor = torch.tensor(X.astype(np.float32))\n",
    "        y_tensor = torch.tensor(y.astype(np.float32)).unsqueeze(1)\n",
    "        self.model.fit(X_tensor, y_tensor)\n",
    "        return self\n",
    "\n",
    "    def predict(self, X):\n",
    "        X_tensor = torch.tensor(X.astype(np.float32))\n",
    "        y_pred = self.model.predict(X_tensor)\n",
    "        return y_pred.cpu().numpy()\n",
    "\n",
    "    def predict_proba(self, X):\n",
    "        y_pred = self.predict(X)\n",
    "        return np.column_stack((1 - y_pred, y_pred))\n",
    "\n",
    "nn_model_sklearn_wrapped = PyTorchClassifierWrapper(nn_model_sklearn)"
   ]
  },
  {
   "cell_type": "code",
   "execution_count": 20,
   "id": "4c4c013b",
   "metadata": {},
   "outputs": [
    {
     "name": "stdout",
     "output_type": "stream",
     "text": [
      "Accuracy of voting ensemble: 0.7272727272727273\n",
      "Accuracy of stacking ensemble: 0.7597402597402597\n"
     ]
    }
   ],
   "source": [
    "from sklearn.ensemble import VotingClassifier, StackingClassifier\n",
    "from sklearn.metrics import accuracy_score\n",
    "class PyTorchClassifierWrapper(BaseEstimator, ClassifierMixin):\n",
    "    def __init__(self, model, epochs=5):\n",
    "        self.model = model\n",
    "        self.epochs = epochs\n",
    "        self.classes_ = None  # Initialize classes_ attribute\n",
    "\n",
    "    def fit(self, X, y):\n",
    "        X_tensor = torch.tensor(X.astype(np.float32))\n",
    "        y_tensor = torch.tensor(y.astype(np.float32)).unsqueeze(1)\n",
    "        self.classes_ = np.unique(y)  # update classes_ attribute on fit\n",
    "        self.model.fit(X_tensor, y_tensor)\n",
    "        return self\n",
    "\n",
    "    def predict(self, X):\n",
    "        X_tensor = torch.tensor(X.astype(np.float32))\n",
    "        y_pred = self.model.predict(X_tensor)\n",
    "        return y_pred \n",
    "\n",
    "    def predict_proba(self, X):\n",
    "        y_pred = self.predict(X)\n",
    "        return np.column_stack((1 - y_pred, y_pred))\n",
    "\n",
    "\n",
    "nn_model_sklearn_wrapped = PyTorchClassifierWrapper(nn_model_sklearn)\n",
    "\n",
    "# Initialize the ensemble models\n",
    "voting = VotingClassifier(estimators=[('lr', log_reg), ('rf', random_forest), ('nn', nn_model_sklearn_wrapped)], voting='soft')\n",
    "stacking = StackingClassifier(estimators=[('lr', log_reg), ('rf', random_forest), ('nn', nn_model_sklearn_wrapped)], final_estimator=LogisticRegression())\n",
    "\n",
    "# Fit the voting ensemble model\n",
    "voting.fit(X_train, y_train)\n",
    "\n",
    "# Predict the test set results\n",
    "y_pred_voting = voting.predict(X_test)\n",
    "\n",
    "# Fit the stacking ensemble model\n",
    "stacking.fit(X_train, y_train)\n",
    "\n",
    "# Predict the test set results\n",
    "y_pred_stacking = stacking.predict(X_test)\n",
    "\n",
    "# Calculate the accuracy of the voting ensemble\n",
    "accuracy_voting = accuracy_score(y_test, y_pred_voting)\n",
    "\n",
    "# Calculate the accuracy of the stacking ensemble\n",
    "accuracy_stacking = accuracy_score(y_test, y_pred_stacking)\n",
    "\n",
    "# Print the accuracies\n",
    "print(f'Accuracy of voting ensemble: {accuracy_voting}')\n",
    "print(f'Accuracy of stacking ensemble: {accuracy_stacking}')\n",
    "\n",
    "# Choose the better model\n",
    "if accuracy_voting > accuracy_stacking:\n",
    "    best_model = voting\n",
    "else:\n",
    "    best_model = stacking\n"
   ]
  },
  {
   "cell_type": "code",
   "execution_count": 21,
   "id": "ac2bd688",
   "metadata": {},
   "outputs": [
    {
     "name": "stdout",
     "output_type": "stream",
     "text": [
      "Classification Report for Voting Ensemble:\n",
      "              precision    recall  f1-score   support\n",
      "\n",
      "           0       0.71      0.96      0.82        99\n",
      "           1       0.81      0.31      0.45        55\n",
      "\n",
      "    accuracy                           0.73       154\n",
      "   macro avg       0.76      0.63      0.63       154\n",
      "weighted avg       0.75      0.73      0.69       154\n",
      "\n"
     ]
    },
    {
     "data": {
      "image/png": "[encoded data removed]",
      "text/plain": [
       "<Figure size 432x288 with 2 Axes>"
      ]
     },
     "metadata": {
      "needs_background": "light"
     },
     "output_type": "display_data"
    }
   ],
   "source": [
    "#Voting ensemble\n",
    "\n",
    "# Fit the model and make predictions\n",
    "voting.fit(X_train, y_train)\n",
    "y_pred_voting = voting.predict(X_test)\n",
    "\n",
    "# Print classification report\n",
    "print(\"Classification Report for Voting Ensemble:\")\n",
    "print(classification_report(y_test, y_pred_voting))\n",
    "\n",
    "# Print confusion matrix\n",
    "cm_voting = confusion_matrix(y_test, y_pred_voting)\n",
    "sns.heatmap(cm_voting, annot=True, fmt='d')\n",
    "plt.title('Confusion Matrix for Voting Ensemble')\n",
    "plt.xlabel('Predicted')\n",
    "plt.ylabel('True')\n",
    "plt.show()\n"
   ]
  },
  {
   "cell_type": "code",
   "execution_count": 22,
   "id": "338e767c",
   "metadata": {},
   "outputs": [
    {
     "name": "stdout",
     "output_type": "stream",
     "text": [
      "Classification Report for Stacking Ensemble:\n",
      "              precision    recall  f1-score   support\n",
      "\n",
      "           0       0.81      0.82      0.81        99\n",
      "           1       0.67      0.65      0.66        55\n",
      "\n",
      "    accuracy                           0.76       154\n",
      "   macro avg       0.74      0.74      0.74       154\n",
      "weighted avg       0.76      0.76      0.76       154\n",
      "\n"
     ]
    },
    {
     "data": {
      "image/png": "[encoded data removed]",
      "text/plain": [
       "<Figure size 432x288 with 2 Axes>"
      ]
     },
     "metadata": {
      "needs_background": "light"
     },
     "output_type": "display_data"
    }
   ],
   "source": [
    "#Stacking ensemble\n",
    "\n",
    "# Fit the model and make predictions\n",
    "stacking.fit(X_train, y_train)\n",
    "y_pred_stacking = stacking.predict(X_test)\n",
    "\n",
    "# Print classification report\n",
    "print(\"Classification Report for Stacking Ensemble:\")\n",
    "print(classification_report(y_test, y_pred_stacking))\n",
    "\n",
    "# Print confusion matrix\n",
    "cm_stacking = confusion_matrix(y_test, y_pred_stacking)\n",
    "sns.heatmap(cm_stacking, annot=True, fmt='d')\n",
    "plt.title('Confusion Matrix for Stacking Ensemble')\n",
    "plt.xlabel('Predicted')\n",
    "plt.ylabel('True')\n",
    "plt.show()\n"
   ]
  },
  {
   "cell_type": "markdown",
   "id": "dbd07674",
   "metadata": {},
   "source": [
    "# Testing on PIMA dataset without Glucose"
   ]
  },
  {
   "cell_type": "code",
   "execution_count": 31,
   "id": "38f3f79b",
   "metadata": {},
   "outputs": [
    {
     "data": {
      "image/png": "[encoded data removed]",
      "text/plain": [
       "<Figure size 432x288 with 1 Axes>"
      ]
     },
     "metadata": {
      "needs_background": "light"
     },
     "output_type": "display_data"
    },
    {
     "name": "stdout",
     "output_type": "stream",
     "text": [
      "Sparse PCA Statistics:\n",
      "Explained Variance Ratio:\n",
      "Principal Component 1: 0.4515\n",
      "Principal Component 2: 0.3067\n",
      "Principal Component 3: 0.1667\n",
      "Principal Component 4: 0.0749\n",
      "Principal Component 5: 0.0001\n",
      "\n",
      "Key Features:\n",
      "Principal Component 1: BloodPressure\n",
      "Principal Component 2: SkinThickness\n",
      "Principal Component 3: Age\n",
      "Principal Component 4: BMI\n",
      "Principal Component 5: DiabetesPedigreeFunction\n"
     ]
    }
   ],
   "source": [
    "#Analyze the dataset after running sparse PCA.  What do we know about the attributes?\n",
    "\n",
    "import os\n",
    "import pandas as pd\n",
    "import numpy as np\n",
    "import matplotlib.pyplot as plt\n",
    "from sklearn.decomposition import SparsePCA\n",
    "from sklearn.model_selection import train_test_split\n",
    "\n",
    "# Get the current directory\n",
    "current_dir = os.getcwd()\n",
    "\n",
    "# Find the .csv file in the current directory\n",
    "csv_files = [file for file in os.listdir(current_dir) if file.endswith(\".csv\")]\n",
    "\n",
    "# Check if the .csv file exists\n",
    "if \"diabetes.csv\" in csv_files:\n",
    "    dataset_file = os.path.join(current_dir, \"diabetes.csv\")\n",
    "else:\n",
    "    raise FileNotFoundError(\"diabetes.csv file not found in the current directory.\")\n",
    "\n",
    "# Define a data loader function\n",
    "def load_dataset(file_path):\n",
    "    # Load the dataset from the CSV file\n",
    "    df = pd.read_csv(file_path)\n",
    "    \n",
    "    df.drop(['Glucose', 'Insulin'], axis=1, inplace=True)\n",
    "\n",
    "    # Perform one-hot encoding for categorical variables\n",
    "    df_encoded = pd.get_dummies(df, drop_first=True)\n",
    "    \n",
    "    # Get the feature names\n",
    "    feature_names = df_encoded.columns[:-1]  # Exclude target variable\n",
    "\n",
    "    # Extract the feature matrix X\n",
    "    X = df_encoded.iloc[:, :-1].values\n",
    "\n",
    "    X[:,0] = X[:,0]/max(X[:,0])\n",
    "    \n",
    "    # Extract the target variable y\n",
    "    y = df_encoded.iloc[:, -1].values\n",
    "\n",
    "    return X, y, feature_names\n",
    "\n",
    "# Load the dataset using the data loader\n",
    "X, y, feature_names = load_dataset(dataset_file)\n",
    "\n",
    "# Initialize SparsePCA\n",
    "sparse_pca = SparsePCA(n_components=5, random_state=42)\n",
    "\n",
    "# Fit and transform the data\n",
    "X_sparse = sparse_pca.fit_transform(X)\n",
    "\n",
    "# Calculate the explained variance ratio manually\n",
    "explained_variance = np.var(X_sparse, axis=0)\n",
    "explained_variance_ratio = explained_variance / np.sum(explained_variance)\n",
    "\n",
    "# Plot explained variance ratio\n",
    "plt.bar(range(len(explained_variance_ratio)), explained_variance_ratio)\n",
    "plt.xlabel('Principal Component')\n",
    "plt.ylabel('Explained Variance Ratio')\n",
    "plt.title('Explained Variance Ratio for Sparse PCA')\n",
    "plt.show()\n",
    "\n",
    "\n",
    "# Identify key features\n",
    "key_features = np.abs(sparse_pca.components_).argmax(axis=1)\n",
    "\n",
    "# Print statistics, plots, and key features\n",
    "print(\"Sparse PCA Statistics:\")\n",
    "print(\"Explained Variance Ratio:\")\n",
    "for i, ratio in enumerate(explained_variance_ratio):\n",
    "    print(f\"Principal Component {i+1}: {ratio:.4f}\")\n",
    "\n",
    "print(\"\\nKey Features:\")\n",
    "for i, feature_idx in enumerate(key_features):\n",
    "    print(f\"Principal Component {i+1}: {feature_names[feature_idx]}\")"
   ]
  },
  {
   "cell_type": "markdown",
   "id": "b9aca01c",
   "metadata": {},
   "source": [
    "After PCA, perform Logistic Regression"
   ]
  },
  {
   "cell_type": "code",
   "execution_count": 32,
   "id": "74705031",
   "metadata": {},
   "outputs": [],
   "source": [
    "#Logistic Regression\n",
    "\n",
    "from sklearn.linear_model import LogisticRegression\n",
    "from sklearn.model_selection import train_test_split\n",
    "\n",
    "# Split the data into training and test sets\n",
    "X_train, X_test, y_train, y_test = train_test_split(X_sparse, y, test_size=0.2, random_state=42)\n",
    "\n",
    "# Define hyperparameters for Logistic Regression\n",
    "log_reg_params = {\n",
    "    'penalty': 'l2',  # Regularization penalty ('l1', 'l2', 'elasticnet', 'none')\n",
    "    'C': 1.0,  # Inverse of regularization strength\n",
    "    'solver': 'lbfgs',  # Algorithm to use for optimization ('newton-cg', 'lbfgs', 'liblinear', 'sag', 'saga')\n",
    "    'max_iter': 100,  # Maximum number of iterations\n",
    "    'random_state': 42  # Random seed for reproducibility\n",
    "}\n",
    "\n",
    "# Initialize Logistic Regression with hyperparameters\n",
    "log_reg = LogisticRegression(**log_reg_params)\n",
    "\n",
    "# Fit the model\n",
    "log_reg.fit(X_train, y_train)\n",
    "\n",
    "# Predict the test set results\n",
    "y_pred = log_reg.predict(X_test)"
   ]
  },
  {
   "cell_type": "code",
   "execution_count": 33,
   "id": "3977a980",
   "metadata": {},
   "outputs": [
    {
     "name": "stdout",
     "output_type": "stream",
     "text": [
      "              precision    recall  f1-score   support\n",
      "\n",
      "           0       0.67      0.77      0.72        99\n",
      "           1       0.44      0.33      0.37        55\n",
      "\n",
      "    accuracy                           0.61       154\n",
      "   macro avg       0.56      0.55      0.55       154\n",
      "weighted avg       0.59      0.61      0.59       154\n",
      "\n"
     ]
    },
    {
     "data": {
      "image/png": "[encoded data removed]",
      "text/plain": [
       "<Figure size 432x288 with 2 Axes>"
      ]
     },
     "metadata": {
      "needs_background": "light"
     },
     "output_type": "display_data"
    }
   ],
   "source": [
    "#Stats and plots for LogReg\n",
    "\n",
    "from sklearn.metrics import classification_report, confusion_matrix\n",
    "import matplotlib.pyplot as plt\n",
    "import seaborn as sns\n",
    "# Fit the model and make predictions\n",
    "log_reg.fit(X_train, y_train)\n",
    "y_pred = log_reg.predict(X_test)\n",
    "\n",
    "# Print classification report\n",
    "print(classification_report(y_test, y_pred))\n",
    "\n",
    "# Print confusion matrix\n",
    "cm = confusion_matrix(y_test, y_pred)\n",
    "sns.heatmap(cm, annot=True, fmt='d')\n",
    "plt.title('Confusion Matrix for Logistic Regression')\n",
    "plt.xlabel('Predicted')\n",
    "plt.ylabel('True')\n",
    "plt.show()\n"
   ]
  },
  {
   "cell_type": "code",
   "execution_count": 34,
   "id": "c0874cd8",
   "metadata": {},
   "outputs": [],
   "source": [
    "#Random Forest\n",
    "\n",
    "from sklearn.ensemble import RandomForestClassifier\n",
    "\n",
    "# Initialize Random Forest\n",
    "random_forest = RandomForestClassifier(n_estimators=100, random_state=42)\n",
    "\n",
    "# Fit the model\n",
    "random_forest.fit(X_train, y_train)\n",
    "\n",
    "# Predict the test set results\n",
    "y_pred = random_forest.predict(X_test)"
   ]
  },
  {
   "cell_type": "code",
   "execution_count": 35,
   "id": "50cdac48",
   "metadata": {},
   "outputs": [
    {
     "name": "stdout",
     "output_type": "stream",
     "text": [
      "              precision    recall  f1-score   support\n",
      "\n",
      "           0       0.75      0.72      0.73        99\n",
      "           1       0.53      0.56      0.54        55\n",
      "\n",
      "    accuracy                           0.66       154\n",
      "   macro avg       0.64      0.64      0.64       154\n",
      "weighted avg       0.67      0.66      0.66       154\n",
      "\n"
     ]
    },
    {
     "data": {
      "image/png": "[encoded data removed]",
      "text/plain": [
       "<Figure size 432x288 with 2 Axes>"
      ]
     },
     "metadata": {
      "needs_background": "light"
     },
     "output_type": "display_data"
    }
   ],
   "source": [
    "# Fit the model and make predictions\n",
    "random_forest.fit(X_train, y_train)\n",
    "y_pred = random_forest.predict(X_test)\n",
    "\n",
    "# Print classification report\n",
    "print(classification_report(y_test, y_pred))\n",
    "\n",
    "# Print confusion matrix\n",
    "cm = confusion_matrix(y_test, y_pred)\n",
    "sns.heatmap(cm, annot=True, fmt='d')\n",
    "plt.title('Confusion Matrix for Random Forest')\n",
    "plt.xlabel('Predicted')\n",
    "plt.ylabel('True')\n",
    "plt.show()"
   ]
  },
  {
   "cell_type": "markdown",
   "id": "dc10f5e0",
   "metadata": {},
   "source": [
    "## Deep and Wide NN"
   ]
  },
  {
   "cell_type": "code",
   "execution_count": 36,
   "id": "3cf814d2",
   "metadata": {},
   "outputs": [
    {
     "name": "stdout",
     "output_type": "stream",
     "text": [
      "Epoch 1/100, Loss: 20.791793823242188\n",
      "Epoch 2/100, Loss: 44.22782516479492\n",
      "Epoch 3/100, Loss: 38.46446990966797\n",
      "Epoch 4/100, Loss: 1.3907747131725046e-07\n",
      "Epoch 5/100, Loss: 15.098074913024902\n",
      "Epoch 6/100, Loss: 9.862296104431152\n",
      "Epoch 7/100, Loss: 29.11158561706543\n",
      "Epoch 8/100, Loss: 33.82444381713867\n",
      "Epoch 9/100, Loss: 4.166449546813965\n",
      "Epoch 10/100, Loss: 15.55066967010498\n",
      "Epoch 11/100, Loss: 5.8458733558654785\n",
      "Epoch 12/100, Loss: 23.979211807250977\n",
      "Epoch 13/100, Loss: 12.454957008361816\n",
      "Epoch 14/100, Loss: 8.508410453796387\n",
      "Epoch 15/100, Loss: 5.4785284996032715\n",
      "Epoch 16/100, Loss: 9.999171257019043\n",
      "Epoch 17/100, Loss: 2.6741201877593994\n",
      "Epoch 18/100, Loss: 7.323064804077148\n",
      "Epoch 19/100, Loss: 6.708254337310791\n",
      "Epoch 20/100, Loss: 11.974491119384766\n",
      "Epoch 21/100, Loss: 5.890085220336914\n",
      "Epoch 22/100, Loss: 2.2800467014312744\n",
      "Epoch 23/100, Loss: 12.7611083984375\n",
      "Epoch 24/100, Loss: 6.8235182762146\n",
      "Epoch 25/100, Loss: 8.885871887207031\n",
      "Epoch 26/100, Loss: 15.988207817077637\n",
      "Epoch 27/100, Loss: 1.714533805847168\n",
      "Epoch 28/100, Loss: 5.9369797706604\n",
      "Epoch 29/100, Loss: 5.720066070556641\n",
      "Epoch 30/100, Loss: 1.0749075412750244\n",
      "Epoch 31/100, Loss: 2.4273784160614014\n",
      "Epoch 32/100, Loss: 2.14750599861145\n",
      "Epoch 33/100, Loss: 1.3794244527816772\n",
      "Epoch 34/100, Loss: 10.831730842590332\n",
      "Epoch 35/100, Loss: 2.722907304763794\n",
      "Epoch 36/100, Loss: 3.2163760662078857\n",
      "Epoch 37/100, Loss: 3.3500020503997803\n",
      "Epoch 38/100, Loss: 3.4330899715423584\n",
      "Epoch 39/100, Loss: 1.2863678932189941\n",
      "Epoch 40/100, Loss: 1.2488700151443481\n",
      "Epoch 41/100, Loss: 8.970433235168457\n",
      "Epoch 42/100, Loss: 6.1170125007629395\n",
      "Epoch 43/100, Loss: 1.3985627889633179\n",
      "Epoch 44/100, Loss: 0.9032297134399414\n",
      "Epoch 45/100, Loss: 2.8479325771331787\n",
      "Epoch 46/100, Loss: 3.517115592956543\n",
      "Epoch 47/100, Loss: 2.3916714191436768\n",
      "Epoch 48/100, Loss: 1.6721612215042114\n",
      "Epoch 49/100, Loss: 4.231110095977783\n",
      "Epoch 50/100, Loss: 1.937736988067627\n",
      "Epoch 51/100, Loss: 0.8909618258476257\n",
      "Epoch 52/100, Loss: 2.235658645629883\n",
      "Epoch 53/100, Loss: 1.7162448167800903\n",
      "Epoch 54/100, Loss: 2.2920913696289062\n",
      "Epoch 55/100, Loss: 1.1659871339797974\n",
      "Epoch 56/100, Loss: 3.3083178997039795\n",
      "Epoch 57/100, Loss: 1.6268543004989624\n",
      "Epoch 58/100, Loss: 1.230065941810608\n",
      "Epoch 59/100, Loss: 0.35275110602378845\n",
      "Epoch 60/100, Loss: 3.1463680267333984\n",
      "Epoch 61/100, Loss: 1.7202705144882202\n",
      "Epoch 62/100, Loss: 0.7889555096626282\n",
      "Epoch 63/100, Loss: 3.1614582538604736\n",
      "Epoch 64/100, Loss: 8.66892147064209\n",
      "Epoch 65/100, Loss: 6.86638069152832\n",
      "Epoch 66/100, Loss: 0.9795853495597839\n",
      "Epoch 67/100, Loss: 0.8987669348716736\n",
      "Epoch 68/100, Loss: 1.2226871252059937\n",
      "Epoch 69/100, Loss: 3.3123767375946045\n",
      "Epoch 70/100, Loss: 0.7910415530204773\n",
      "Epoch 71/100, Loss: 0.004010520409792662\n",
      "Epoch 72/100, Loss: 1.3099924325942993\n",
      "Epoch 73/100, Loss: 1.6705536842346191\n",
      "Epoch 74/100, Loss: 0.04774978756904602\n",
      "Epoch 75/100, Loss: 1.5922608375549316\n",
      "Epoch 76/100, Loss: 2.1370108127593994\n",
      "Epoch 77/100, Loss: 1.558255672454834\n",
      "Epoch 78/100, Loss: 0.5831404328346252\n",
      "Epoch 79/100, Loss: 1.2360903024673462\n",
      "Epoch 80/100, Loss: 0.23972077667713165\n",
      "Epoch 81/100, Loss: 1.34566068649292\n",
      "Epoch 82/100, Loss: 3.6470677852630615\n",
      "Epoch 83/100, Loss: 4.809911251068115\n",
      "Epoch 84/100, Loss: 0.17572174966335297\n",
      "Epoch 85/100, Loss: 0.3730262815952301\n",
      "Epoch 86/100, Loss: 1.0998603105545044\n",
      "Epoch 87/100, Loss: 0.6679143309593201\n",
      "Epoch 88/100, Loss: 1.3491729497909546\n",
      "Epoch 89/100, Loss: 2.1415436267852783\n",
      "Epoch 90/100, Loss: 1.0432640314102173\n",
      "Epoch 91/100, Loss: 0.02327444590628147\n",
      "Epoch 92/100, Loss: 1.6874561309814453\n",
      "Epoch 93/100, Loss: 0.8718813061714172\n",
      "Epoch 94/100, Loss: 0.4697103798389435\n",
      "Epoch 95/100, Loss: 0.3006458878517151\n",
      "Epoch 96/100, Loss: 0.3215191066265106\n",
      "Epoch 97/100, Loss: 1.4022239446640015\n",
      "Epoch 98/100, Loss: 0.3190191090106964\n",
      "Epoch 99/100, Loss: 0.9588821530342102\n",
      "Epoch 100/100, Loss: 0.7071235775947571\n",
      "Final Loss: 0.7071235775947571\n"
     ]
    }
   ],
   "source": [
    "import torch\n",
    "import torch.nn as nn\n",
    "import torch.optim as optim\n",
    "from torch.utils.data import DataLoader, TensorDataset\n",
    "import matplotlib.pyplot as plt\n",
    "\n",
    "# Hyperparameters\n",
    "hyper_params = {\n",
    "    'batch_size': 16,\n",
    "    'learning_rate': 0.01,\n",
    "    'epochs': 100,\n",
    "    'input_size': X_sparse.shape[1],\n",
    "    'hidden_size': 1000,\n",
    "    'output_size': 1,\n",
    "    'dropout_rate': 0.85,\n",
    "}\n",
    "\n",
    "# Split the data into training and test sets\n",
    "X_train, X_test, y_train, y_test = train_test_split(X_sparse, y, test_size=0.2, random_state=42)\n",
    "\n",
    "# Convert to tensors\n",
    "X_tensor = torch.tensor(X_train.astype(np.float32))\n",
    "y_tensor = torch.tensor(y_train.astype(np.float32)).unsqueeze(1)\n",
    "\n",
    "# Create a Dataset\n",
    "dataset = TensorDataset(X_tensor, y_tensor)\n",
    "\n",
    "# Create a DataLoader\n",
    "data_loader = DataLoader(dataset, batch_size=hyper_params['batch_size'], shuffle=True)\n",
    "\n",
    "# Use CUDA if available\n",
    "device = torch.device('cuda' if torch.cuda.is_available() else 'cpu')\n",
    "\n",
    "# Define the Deep and Wide neural network\n",
    "class DeepWideNN(nn.Module):\n",
    "    def __init__(self, input_size, hidden_size, output_size, dropout_rate):\n",
    "        super(DeepWideNN, self).__init__()\n",
    "        self.deep = nn.Sequential(\n",
    "            nn.Linear(input_size, hidden_size),\n",
    "            nn.ReLU(),\n",
    "            nn.Dropout(dropout_rate),\n",
    "            nn.Linear(hidden_size, output_size),\n",
    "        )\n",
    "\n",
    "    def forward(self, x):\n",
    "        out = self.deep(x)\n",
    "        return out\n",
    "\n",
    "# Initialize the model, loss function, and optimizer\n",
    "nn_model = DeepWideNN(\n",
    "    input_size=hyper_params['input_size'],\n",
    "    hidden_size=hyper_params['hidden_size'],\n",
    "    output_size=hyper_params['output_size'],\n",
    "    dropout_rate=hyper_params['dropout_rate']\n",
    ").to(device)\n",
    "criterion = nn.BCEWithLogitsLoss()\n",
    "optimizer = optim.SGD(nn_model.parameters(), lr=hyper_params['learning_rate'])\n",
    "\n",
    "# Training loop\n",
    "for epoch in range(hyper_params['epochs']):\n",
    "    for i, (inputs, labels) in enumerate(data_loader):\n",
    "        inputs, labels = inputs.to(device), labels.to(device)\n",
    "\n",
    "        # Forward pass\n",
    "        outputs = nn_model(inputs)\n",
    "        loss = criterion(outputs, labels)\n",
    "\n",
    "        # Backward and optimize\n",
    "        optimizer.zero_grad()\n",
    "        loss.backward()\n",
    "        optimizer.step()\n",
    "    print(f'Epoch {epoch+1}/{hyper_params[\"epochs\"]}, Loss: {loss.item()}')\n",
    "\n",
    "# Display the final loss\n",
    "print(f\"Final Loss: {loss.item()}\")\n",
    "\n",
    "# Save the model\n",
    "torch.save(nn_model.state_dict(), \"nn_model.pth\")"
   ]
  },
  {
   "cell_type": "markdown",
   "id": "a9c42098",
   "metadata": {},
   "source": [
    "## Tuning our Deep and Wide model\n"
   ]
  },
  {
   "cell_type": "code",
   "execution_count": 37,
   "id": "20ad3176",
   "metadata": {},
   "outputs": [
    {
     "name": "stderr",
     "output_type": "stream",
     "text": [
      "\r",
      "  0%|          | 0/6 [00:00<?, ?it/s]"
     ]
    },
    {
     "name": "stdout",
     "output_type": "stream",
     "text": [
      "tensor(0.6169)\n",
      "tensor(0.6429)\n",
      "tensor(0.6558)\n",
      "tensor(0.6753)\n"
     ]
    },
    {
     "name": "stderr",
     "output_type": "stream",
     "text": [
      "\r",
      " 17%|█▋        | 1/6 [05:22<26:51, 322.34s/it]"
     ]
    },
    {
     "name": "stdout",
     "output_type": "stream",
     "text": [
      "tensor(0.6883)\n"
     ]
    },
    {
     "name": "stderr",
     "output_type": "stream",
     "text": [
      " 67%|██████▋   | 4/6 [13:56<06:02, 181.09s/it]"
     ]
    },
    {
     "name": "stdout",
     "output_type": "stream",
     "text": [
      "tensor(0.7013)\n"
     ]
    },
    {
     "name": "stderr",
     "output_type": "stream",
     "text": [
      "100%|██████████| 6/6 [17:02<00:00, 170.50s/it]"
     ]
    },
    {
     "name": "stdout",
     "output_type": "stream",
     "text": [
      "Best Params: {'batch_size': 256, 'learning_rate': 0.1, 'hidden_size': 1500, 'dropout_rate': 0.5}, Best Accuracy: 0.701298713684082\n"
     ]
    },
    {
     "name": "stderr",
     "output_type": "stream",
     "text": [
      "\n"
     ]
    }
   ],
   "source": [
    "import json\n",
    "from tqdm import tqdm\n",
    "# Define a list or range of values for each hyperparameter\n",
    "batch_sizes = [16,32,64,128, 256, 512]\n",
    "learning_rates = [0.0001,0.001, 0.01, 0.1]\n",
    "hidden_sizes = [50, 100, 500, 1000, 1500]\n",
    "dropout_rates = [0.15, 0.3, 0.5, 0.7, 0.85]\n",
    "\n",
    "# Placeholder variables for storing the best parameters and the best accuracy\n",
    "best_params = None\n",
    "best_accuracy = 0.0\n",
    "\n",
    "# Use CUDA if available\n",
    "device = torch.device('cuda' if torch.cuda.is_available() else 'cpu')\n",
    "\n",
    "# Loop over the hyperparameters\n",
    "for batch_size in tqdm(batch_sizes):\n",
    "    for learning_rate in learning_rates:\n",
    "        for hidden_size in hidden_sizes:\n",
    "            for dropout_rate in dropout_rates:\n",
    "\n",
    "                # Create a DataLoader with the current batch_size\n",
    "                data_loader = DataLoader(dataset, batch_size=batch_size, shuffle=True)\n",
    "\n",
    "                # Initialize the model, loss function, and optimizer with the current hyperparameters\n",
    "                nn_model = DeepWideNN(\n",
    "                    input_size=hyper_params['input_size'],\n",
    "                    hidden_size=hidden_size,\n",
    "                    output_size=hyper_params['output_size'],\n",
    "                    dropout_rate=dropout_rate\n",
    "                ).to(device)\n",
    "                criterion = nn.BCEWithLogitsLoss()\n",
    "                optimizer = optim.SGD(nn_model.parameters(), lr=learning_rate)\n",
    "\n",
    "                # Training loop\n",
    "                for epoch in range(hyper_params['epochs']):\n",
    "                    for i, (inputs, labels) in enumerate(data_loader):\n",
    "                        inputs, labels = inputs.to(device), labels.to(device)\n",
    "\n",
    "                        # Forward pass\n",
    "                        outputs = nn_model(inputs)\n",
    "                        loss = criterion(outputs, labels)\n",
    "\n",
    "                        # Backward and optimize\n",
    "                        optimizer.zero_grad()\n",
    "                        loss.backward()\n",
    "                        optimizer.step()\n",
    "\n",
    "                # Evaluate the model on the test set to get the accuracy\n",
    "                nn_model.eval()\n",
    "                with torch.no_grad():\n",
    "                    X_test_tensor = torch.tensor(X_test.astype(np.float32)).to(device)\n",
    "                    y_test_tensor = torch.tensor(y_test.astype(np.float32)).unsqueeze(1).to(device)\n",
    "                    outputs = nn_model(X_test_tensor)\n",
    "                    predictions = torch.sigmoid(outputs) > 0.5\n",
    "                    accuracy = (predictions == y_test_tensor).float().mean()\n",
    "\n",
    "                # If the accuracy is better than the best_accuracy found so far, update the best_params and best_accuracy\n",
    "                if accuracy > best_accuracy:\n",
    "                    print(accuracy)\n",
    "                    best_params = {'batch_size': batch_size, 'learning_rate': learning_rate, \n",
    "                                   'hidden_size': hidden_size, 'dropout_rate': dropout_rate}\n",
    "                    best_accuracy = accuracy\n",
    "\n",
    "# Print the best hyperparameters and the corresponding accuracy\n",
    "print(f\"Best Params: {best_params}, Best Accuracy: {best_accuracy}\")\n",
    "\n",
    "# Save the best parameters\n",
    "with open(\"best_params.json\", \"w\") as f:\n",
    "    json.dump(best_params, f)\n"
   ]
  },
  {
   "cell_type": "code",
   "execution_count": 38,
   "id": "a32cfb0f",
   "metadata": {},
   "outputs": [],
   "source": [
    "from sklearn.base import BaseEstimator, ClassifierMixin\n",
    "\n",
    "class PyTorchClassifier(BaseEstimator, ClassifierMixin):\n",
    "    def __init__(self, model, criterion, optimizer, epochs):\n",
    "        self.model = model\n",
    "        self.criterion = criterion\n",
    "        self.optimizer = optimizer\n",
    "        self.epochs = epochs\n",
    "\n",
    "    def fit(self, X, y):\n",
    "\n",
    "        dataset = TensorDataset(X, y)\n",
    "        data_loader = DataLoader(dataset, batch_size=hyper_params['batch_size'], shuffle=True)\n",
    "\n",
    "        for epoch in range(self.epochs):\n",
    "            for i, (inputs, labels) in enumerate(data_loader):\n",
    "                inputs, labels = inputs.to(device), labels.to(device)\n",
    "\n",
    "                # Forward pass\n",
    "                outputs = self.model(inputs)\n",
    "                loss = self.criterion(outputs, labels)\n",
    "\n",
    "                # Backward and optimize\n",
    "                self.optimizer.zero_grad()\n",
    "                loss.backward()\n",
    "                self.optimizer.step()\n",
    "\n",
    "        return self\n",
    "\n",
    "    def predict_proba(self, X):\n",
    "        with torch.no_grad():\n",
    "            outputs = self.model(X)\n",
    "            probs = torch.sigmoid(outputs)\n",
    "            return probs.cpu().numpy()\n",
    "\n",
    "    def predict(self, X):\n",
    "        probas = self.predict_proba(X)\n",
    "        return (probas > 0.5).astype(int)\n",
    "\n",
    "# Wrap the PyTorch model\n",
    "nn_model_sklearn = PyTorchClassifier(nn_model, criterion, optimizer, epochs=hyper_params['epochs'])\n",
    "\n",
    "# Now, you can use nn_model_sklearn in your sklearn ensemble models\n"
   ]
  },
  {
   "cell_type": "code",
   "execution_count": 39,
   "id": "bb663060",
   "metadata": {},
   "outputs": [
    {
     "name": "stdout",
     "output_type": "stream",
     "text": [
      "              precision    recall  f1-score   support\n",
      "\n",
      "           0       0.68      0.78      0.73        99\n",
      "           1       0.46      0.35      0.40        55\n",
      "\n",
      "    accuracy                           0.62       154\n",
      "   macro avg       0.57      0.56      0.56       154\n",
      "weighted avg       0.60      0.62      0.61       154\n",
      "\n"
     ]
    },
    {
     "data": {
      "image/png": "[encoded data removed]",
      "text/plain": [
       "<Figure size 432x288 with 2 Axes>"
      ]
     },
     "metadata": {
      "needs_background": "light"
     },
     "output_type": "display_data"
    }
   ],
   "source": [
    "# Fit the model\n",
    "X_train_tensor = torch.tensor(X_train.astype(np.float32))\n",
    "y_train_tensor = torch.tensor(y_train.astype(np.float32)).unsqueeze(1)\n",
    "X_test_tensor = torch.tensor(X_test.astype(np.float32))\n",
    "\n",
    "nn_model_sklearn.fit(X_train_tensor, y_train_tensor)\n",
    "y_pred = nn_model_sklearn.predict(X_test_tensor)\n",
    "\n",
    "# Print classification report\n",
    "print(classification_report(y_test, y_pred))\n",
    "\n",
    "# Print confusion matrix\n",
    "cm = confusion_matrix(y_test, y_pred)\n",
    "sns.heatmap(cm, annot=True, fmt='d')\n",
    "plt.title('Confusion Matrix for Deep and Wide Network')\n",
    "plt.xlabel('Predicted')\n",
    "plt.ylabel('True')\n",
    "plt.show()"
   ]
  },
  {
   "cell_type": "code",
   "execution_count": 40,
   "id": "320212f8",
   "metadata": {},
   "outputs": [],
   "source": [
    "class PyTorchClassifierWrapper(BaseEstimator, ClassifierMixin):\n",
    "    def __init__(self, model, epochs=5):\n",
    "        self.model = model\n",
    "        self.epochs = epochs\n",
    "\n",
    "    def fit(self, X, y):\n",
    "        X_tensor = torch.tensor(X.astype(np.float32))\n",
    "        y_tensor = torch.tensor(y.astype(np.float32)).unsqueeze(1)\n",
    "        self.model.fit(X_tensor, y_tensor)\n",
    "        return self\n",
    "\n",
    "    def predict(self, X):\n",
    "        X_tensor = torch.tensor(X.astype(np.float32))\n",
    "        y_pred = self.model.predict(X_tensor)\n",
    "        return y_pred.cpu().numpy()\n",
    "\n",
    "    def predict_proba(self, X):\n",
    "        y_pred = self.predict(X)\n",
    "        return np.column_stack((1 - y_pred, y_pred))\n",
    "\n",
    "nn_model_sklearn_wrapped = PyTorchClassifierWrapper(nn_model_sklearn)"
   ]
  },
  {
   "cell_type": "code",
   "execution_count": 41,
   "id": "5a46a95e",
   "metadata": {},
   "outputs": [
    {
     "name": "stdout",
     "output_type": "stream",
     "text": [
      "Accuracy of voting ensemble: 0.6233766233766234\n",
      "Accuracy of stacking ensemble: 0.6363636363636364\n"
     ]
    }
   ],
   "source": [
    "from sklearn.ensemble import VotingClassifier, StackingClassifier\n",
    "from sklearn.metrics import accuracy_score\n",
    "class PyTorchClassifierWrapper(BaseEstimator, ClassifierMixin):\n",
    "    def __init__(self, model, epochs=5):\n",
    "        self.model = model\n",
    "        self.epochs = epochs\n",
    "        self.classes_ = None  # Initialize classes_ attribute\n",
    "\n",
    "    def fit(self, X, y):\n",
    "        X_tensor = torch.tensor(X.astype(np.float32))\n",
    "        y_tensor = torch.tensor(y.astype(np.float32)).unsqueeze(1)\n",
    "        self.classes_ = np.unique(y)  # update classes_ attribute on fit\n",
    "        self.model.fit(X_tensor, y_tensor)\n",
    "        return self\n",
    "\n",
    "    def predict(self, X):\n",
    "        X_tensor = torch.tensor(X.astype(np.float32))\n",
    "        y_pred = self.model.predict(X_tensor)\n",
    "        return y_pred \n",
    "\n",
    "    def predict_proba(self, X):\n",
    "        y_pred = self.predict(X)\n",
    "        return np.column_stack((1 - y_pred, y_pred))\n",
    "\n",
    "\n",
    "nn_model_sklearn_wrapped = PyTorchClassifierWrapper(nn_model_sklearn)\n",
    "\n",
    "# Initialize the ensemble models\n",
    "voting = VotingClassifier(estimators=[('lr', log_reg), ('rf', random_forest), ('nn', nn_model_sklearn_wrapped)], voting='soft')\n",
    "stacking = StackingClassifier(estimators=[('lr', log_reg), ('rf', random_forest), ('nn', nn_model_sklearn_wrapped)], final_estimator=LogisticRegression())\n",
    "\n",
    "# Fit the voting ensemble model\n",
    "voting.fit(X_train, y_train)\n",
    "\n",
    "# Predict the test set results\n",
    "y_pred_voting = voting.predict(X_test)\n",
    "\n",
    "# Fit the stacking ensemble model\n",
    "stacking.fit(X_train, y_train)\n",
    "\n",
    "# Predict the test set results\n",
    "y_pred_stacking = stacking.predict(X_test)\n",
    "\n",
    "# Calculate the accuracy of the voting ensemble\n",
    "accuracy_voting = accuracy_score(y_test, y_pred_voting)\n",
    "\n",
    "# Calculate the accuracy of the stacking ensemble\n",
    "accuracy_stacking = accuracy_score(y_test, y_pred_stacking)\n",
    "\n",
    "# Print the accuracies\n",
    "print(f'Accuracy of voting ensemble: {accuracy_voting}')\n",
    "print(f'Accuracy of stacking ensemble: {accuracy_stacking}')\n",
    "\n",
    "# Choose the better model\n",
    "if accuracy_voting > accuracy_stacking:\n",
    "    best_model = voting\n",
    "else:\n",
    "    best_model = stacking\n"
   ]
  },
  {
   "cell_type": "code",
   "execution_count": 42,
   "id": "10c39250",
   "metadata": {},
   "outputs": [
    {
     "name": "stdout",
     "output_type": "stream",
     "text": [
      "Classification Report for Voting Ensemble:\n",
      "              precision    recall  f1-score   support\n",
      "\n",
      "           0       0.68      0.78      0.73        99\n",
      "           1       0.46      0.35      0.40        55\n",
      "\n",
      "    accuracy                           0.62       154\n",
      "   macro avg       0.57      0.56      0.56       154\n",
      "weighted avg       0.60      0.62      0.61       154\n",
      "\n"
     ]
    },
    {
     "data": {
      "image/png": "[encoded data removed]",
      "text/plain": [
       "<Figure size 432x288 with 2 Axes>"
      ]
     },
     "metadata": {
      "needs_background": "light"
     },
     "output_type": "display_data"
    }
   ],
   "source": [
    "#Voting ensemble\n",
    "\n",
    "# Fit the model and make predictions\n",
    "voting.fit(X_train, y_train)\n",
    "y_pred_voting = voting.predict(X_test)\n",
    "\n",
    "# Print classification report\n",
    "print(\"Classification Report for Voting Ensemble:\")\n",
    "print(classification_report(y_test, y_pred_voting))\n",
    "\n",
    "# Print confusion matrix\n",
    "cm_voting = confusion_matrix(y_test, y_pred_voting)\n",
    "sns.heatmap(cm_voting, annot=True, fmt='d')\n",
    "plt.title('Confusion Matrix for Voting Ensemble')\n",
    "plt.xlabel('Predicted')\n",
    "plt.ylabel('True')\n",
    "plt.show()\n"
   ]
  },
  {
   "cell_type": "code",
   "execution_count": 43,
   "id": "98ad39b2",
   "metadata": {},
   "outputs": [
    {
     "name": "stdout",
     "output_type": "stream",
     "text": [
      "Classification Report for Stacking Ensemble:\n",
      "              precision    recall  f1-score   support\n",
      "\n",
      "           0       0.70      0.77      0.73        99\n",
      "           1       0.49      0.40      0.44        55\n",
      "\n",
      "    accuracy                           0.64       154\n",
      "   macro avg       0.59      0.58      0.59       154\n",
      "weighted avg       0.62      0.64      0.63       154\n",
      "\n"
     ]
    },
    {
     "data": {
      "image/png": "[encoded data removed]",
      "text/plain": [
       "<Figure size 432x288 with 2 Axes>"
      ]
     },
     "metadata": {
      "needs_background": "light"
     },
     "output_type": "display_data"
    }
   ],
   "source": [
    "#Stacking ensemble\n",
    "\n",
    "# Fit the model and make predictions\n",
    "stacking.fit(X_train, y_train)\n",
    "y_pred_stacking = stacking.predict(X_test)\n",
    "\n",
    "# Print classification report\n",
    "print(\"Classification Report for Stacking Ensemble:\")\n",
    "print(classification_report(y_test, y_pred_stacking))\n",
    "\n",
    "# Print confusion matrix\n",
    "cm_stacking = confusion_matrix(y_test, y_pred_stacking)\n",
    "sns.heatmap(cm_stacking, annot=True, fmt='d')\n",
    "plt.title('Confusion Matrix for Stacking Ensemble')\n",
    "plt.xlabel('Predicted')\n",
    "plt.ylabel('True')\n",
    "plt.show()\n"
   ]
  },
  {
   "cell_type": "code",
   "execution_count": 30,
   "id": "ebfb5805",
   "metadata": {},
   "outputs": [
    {
     "name": "stdout",
     "output_type": "stream",
     "text": [
      "The sparseness of the dataset is 0.0000\n"
     ]
    }
   ],
   "source": [
    "import pandas as pd\n",
    "import numpy as np\n",
    "\n",
    "# Assuming you've already loaded your dataframe into df\n",
    "# Replace df with the actual variable name if different\n",
    "df = pd.read_csv(os.path.join(current_dir, \"diabetes_data_upload.csv\"))\n",
    "\n",
    "# Transform the dataframe into a 1-D numpy array\n",
    "data = df.values.flatten()\n",
    "\n",
    "# Calculate the number of zero elements\n",
    "num_zero_elements = np.count_nonzero(data==0)\n",
    "\n",
    "# Calculate the total number of elements\n",
    "total_elements = data.size\n",
    "\n",
    "# Calculate the proportion of zero elements\n",
    "sparseness = num_zero_elements / total_elements\n",
    "\n",
    "print(f\"The sparseness of the dataset is {sparseness:.4f}\")"
   ]
  },
  {
   "cell_type": "code",
   "execution_count": null,
   "id": "f7e34d78",
   "metadata": {},
   "outputs": [],
   "source": []
  }
 ],
 "metadata": {
  "kernelspec": {
   "display_name": "Python 3",
   "language": "python",
   "name": "python3"
  },
  "language_info": {
   "codemirror_mode": {
    "name": "ipython",
    "version": 3
   },
   "file_extension": ".py",
   "mimetype": "text/x-python",
   "name": "python",
   "nbconvert_exporter": "python",
   "pygments_lexer": "ipython3",
   "version": "3.9.5"
  }
 },
 "nbformat": 4,
 "nbformat_minor": 5
}
